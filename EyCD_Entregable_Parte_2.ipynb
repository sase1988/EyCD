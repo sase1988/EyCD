{
  "nbformat": 4,
  "nbformat_minor": 0,
  "metadata": {
    "colab": {
      "name": "EyCD - Entregable_Parte_2.ipynb",
      "provenance": [],
      "collapsed_sections": [],
      "toc_visible": true
    },
    "kernelspec": {
      "name": "python3",
      "display_name": "Python 3"
    },
    "language_info": {
      "name": "python"
    }
  },
  "cells": [
    {
      "cell_type": "markdown",
      "metadata": {
        "id": "view-in-github"
      },
      "source": [
        "<a href=\"https://colab.research.google.com/github/DiploDatos/AnalisisYCuracion/blob/master/Entregable_Parte_2.ipynb\" target=\"_parent\"><img src=\"https://colab.research.google.com/assets/colab-badge.svg\" alt=\"Open In Colab\"/></a>"
      ]
    },
    {
      "cell_type": "markdown",
      "metadata": {
        "id": "zO4bRoxr2Apy"
      },
      "source": [
        "**Diplomatura en Ciencia de Datos, Aprendizaje Automático y sus Aplicaciones**\n",
        "\n",
        "**Exploración y Curación de Datos**\n",
        "\n",
        "*Edición 2021*\n",
        "\n",
        "----\n",
        "\n",
        "# Trabajo práctico entregable - parte 2\n",
        "\n",
        "\n",
        "En el ejercicio 1 de la parte 1 del entregable seleccionaron las filas y columnas relevantes al problema de predicción de precios de una propiedad. Además de ello, tuvieron que reducir el número de valores posibles para las variables categóricas utilizando información de dominio.\n",
        "\n",
        "En el ejercicio 2 de la parte 1 del entregable imputaron los valores faltantes de las columnas `Suburb` y las columnas obtenidas a partir del conjunto de datos `airbnb`.\n",
        "\n",
        "En esta notebook, **se utilizará resultado de dichas operaciones.**\n"
      ]
    },
    {
      "cell_type": "code",
      "metadata": {
        "id": "4udjxjk1EtVU"
      },
      "source": [
        "import matplotlib.pyplot as plt\n",
        "import numpy as np\n",
        "import pandas as pd\n",
        "\n",
        "import seaborn as sns\n",
        "sns.set_context('talk')"
      ],
      "execution_count": 1,
      "outputs": []
    },
    {
      "cell_type": "code",
      "metadata": {
        "colab": {
          "base_uri": "https://localhost:8080/",
          "height": 153
        },
        "id": "_qeFN3GnEvMk",
        "outputId": "2964b7cb-7920-40c0-bbab-f3623a960a2d"
      },
      "source": [
        "# Acá deberían leer el conjunto de datos que ya tienen.\n",
        "melb_df = pd.read_csv('https://github.com/sase1988/EyCD/raw/main/melb_df_clean.csv')\n",
        "melb_df.drop(['Unnamed: 0', 'index'], axis=1, inplace=True)\n",
        "melb_df[:3]"
      ],
      "execution_count": 3,
      "outputs": [
        {
          "output_type": "execute_result",
          "data": {
            "text/html": [
              "<div>\n",
              "<style scoped>\n",
              "    .dataframe tbody tr th:only-of-type {\n",
              "        vertical-align: middle;\n",
              "    }\n",
              "\n",
              "    .dataframe tbody tr th {\n",
              "        vertical-align: top;\n",
              "    }\n",
              "\n",
              "    .dataframe thead th {\n",
              "        text-align: right;\n",
              "    }\n",
              "</style>\n",
              "<table border=\"1\" class=\"dataframe\">\n",
              "  <thead>\n",
              "    <tr style=\"text-align: right;\">\n",
              "      <th></th>\n",
              "      <th>Suburb</th>\n",
              "      <th>Rooms</th>\n",
              "      <th>Type</th>\n",
              "      <th>Price</th>\n",
              "      <th>Distance</th>\n",
              "      <th>Postcode</th>\n",
              "      <th>Bathroom</th>\n",
              "      <th>Car</th>\n",
              "      <th>Landsize</th>\n",
              "      <th>BuildingArea</th>\n",
              "      <th>YearBuilt</th>\n",
              "      <th>CouncilArea</th>\n",
              "      <th>Lattitude</th>\n",
              "      <th>Longtitude</th>\n",
              "      <th>Propertycount</th>\n",
              "      <th>distance_group</th>\n",
              "      <th>Date_Month</th>\n",
              "      <th>airbnb_price_mean</th>\n",
              "    </tr>\n",
              "  </thead>\n",
              "  <tbody>\n",
              "    <tr>\n",
              "      <th>0</th>\n",
              "      <td>Abbotsford</td>\n",
              "      <td>2</td>\n",
              "      <td>h</td>\n",
              "      <td>1480000.0</td>\n",
              "      <td>2.5</td>\n",
              "      <td>3067.0</td>\n",
              "      <td>1.0</td>\n",
              "      <td>1.0</td>\n",
              "      <td>202.0</td>\n",
              "      <td>NaN</td>\n",
              "      <td>NaN</td>\n",
              "      <td>Yarra</td>\n",
              "      <td>-37.7996</td>\n",
              "      <td>144.9984</td>\n",
              "      <td>4019.0</td>\n",
              "      <td>(0, 10]</td>\n",
              "      <td>2016-03-01</td>\n",
              "      <td>130.624031</td>\n",
              "    </tr>\n",
              "    <tr>\n",
              "      <th>1</th>\n",
              "      <td>Abbotsford</td>\n",
              "      <td>2</td>\n",
              "      <td>h</td>\n",
              "      <td>1035000.0</td>\n",
              "      <td>2.5</td>\n",
              "      <td>3067.0</td>\n",
              "      <td>1.0</td>\n",
              "      <td>0.0</td>\n",
              "      <td>156.0</td>\n",
              "      <td>79.0</td>\n",
              "      <td>1900.0</td>\n",
              "      <td>Yarra</td>\n",
              "      <td>-37.8079</td>\n",
              "      <td>144.9934</td>\n",
              "      <td>4019.0</td>\n",
              "      <td>(0, 10]</td>\n",
              "      <td>2016-04-01</td>\n",
              "      <td>130.624031</td>\n",
              "    </tr>\n",
              "    <tr>\n",
              "      <th>2</th>\n",
              "      <td>Abbotsford</td>\n",
              "      <td>3</td>\n",
              "      <td>h</td>\n",
              "      <td>1465000.0</td>\n",
              "      <td>2.5</td>\n",
              "      <td>3067.0</td>\n",
              "      <td>2.0</td>\n",
              "      <td>0.0</td>\n",
              "      <td>134.0</td>\n",
              "      <td>150.0</td>\n",
              "      <td>1900.0</td>\n",
              "      <td>Yarra</td>\n",
              "      <td>-37.8093</td>\n",
              "      <td>144.9944</td>\n",
              "      <td>4019.0</td>\n",
              "      <td>(0, 10]</td>\n",
              "      <td>2017-04-01</td>\n",
              "      <td>130.624031</td>\n",
              "    </tr>\n",
              "  </tbody>\n",
              "</table>\n",
              "</div>"
            ],
            "text/plain": [
              "       Suburb  Rooms Type  ...  distance_group  Date_Month  airbnb_price_mean\n",
              "0  Abbotsford      2    h  ...         (0, 10]  2016-03-01         130.624031\n",
              "1  Abbotsford      2    h  ...         (0, 10]  2016-04-01         130.624031\n",
              "2  Abbotsford      3    h  ...         (0, 10]  2017-04-01         130.624031\n",
              "\n",
              "[3 rows x 18 columns]"
            ]
          },
          "metadata": {
            "tags": []
          },
          "execution_count": 3
        }
      ]
    },
    {
      "cell_type": "markdown",
      "metadata": {
        "id": "H2r87_9LKkfZ"
      },
      "source": [
        "Eliminamos la variable distance_group"
      ]
    },
    {
      "cell_type": "code",
      "metadata": {
        "id": "1x3pD1B24Hxk"
      },
      "source": [
        "melb_df = melb_df.drop(['distance_group'],axis = 1)"
      ],
      "execution_count": 4,
      "outputs": []
    },
    {
      "cell_type": "markdown",
      "metadata": {
        "id": "s-mixICN22kA"
      },
      "source": [
        "## Ejercicio 1: Encoding\n",
        "\n",
        "1. Seleccionar todas las filas y columnas del conjunto de datos obtenido en la parte 1 del entregable, **excepto** `BuildingArea` y `YearBuilt`, que volveremos a imputar más adelante.\n",
        "\n",
        "2. Aplicar una codificación One-hot encoding a cada fila, tanto para variables numéricas como categóricas. Si lo consideran necesario, pueden volver a reducir el número de categorías únicas.\n",
        "\n",
        "Algunas opciones:\n",
        "  1. Utilizar `OneHotEncoder` junto con el parámetro `categories` para las variables categóricas y luego usar `numpy.hstack` para concatenar el resultado con las variables numéricas. \n",
        "  2. `DictVectorizer` con algunos pasos de pre-proceso previo.\n",
        "\n",
        "Recordar también que el atributo `pandas.DataFrame.values` permite acceder a la matriz de numpy subyacente a un DataFrame.\n"
      ]
    },
    {
      "cell_type": "markdown",
      "metadata": {
        "id": "K9YKK-lPQFC-"
      },
      "source": [
        "### Dictvectorizer\n",
        "\n",
        "Decidimos trabajar directamente con DictVectorizer para que codifique solamente las categóricas y conserve las numéricas como están."
      ]
    },
    {
      "cell_type": "code",
      "metadata": {
        "id": "ojBvPrmiQJsZ"
      },
      "source": [
        "feature_dict = list(melb_df.T.to_dict().values())"
      ],
      "execution_count": 87,
      "outputs": []
    },
    {
      "cell_type": "code",
      "metadata": {
        "colab": {
          "base_uri": "https://localhost:8080/"
        },
        "id": "iHo-FekwthKr",
        "outputId": "af3b7f9d-847c-45a6-929c-78faecb9714e"
      },
      "source": [
        "feature_dict[1]"
      ],
      "execution_count": 88,
      "outputs": [
        {
          "output_type": "execute_result",
          "data": {
            "text/plain": [
              "{'Bathroom': 1.0,\n",
              " 'BuildingArea': 79.0,\n",
              " 'Car': 0.0,\n",
              " 'CouncilArea': 'Yarra',\n",
              " 'Date_Month': '2016-04-01',\n",
              " 'Distance': 2.5,\n",
              " 'Landsize': 156.0,\n",
              " 'Lattitude': -37.8079,\n",
              " 'Longtitude': 144.9934,\n",
              " 'Postcode': 3067.0,\n",
              " 'Price': 1035000.0,\n",
              " 'Propertycount': 4019.0,\n",
              " 'Rooms': 2,\n",
              " 'Suburb': 'Abbotsford',\n",
              " 'Type': 'h',\n",
              " 'YearBuilt': 1900.0,\n",
              " 'airbnb_price_mean': 130.62403100775194}"
            ]
          },
          "metadata": {
            "tags": []
          },
          "execution_count": 88
        }
      ]
    },
    {
      "cell_type": "code",
      "metadata": {
        "id": "-2tF-HVLQdQQ"
      },
      "source": [
        "from sklearn.feature_extraction import DictVectorizer\n",
        "vec = DictVectorizer(sparse=False)\n",
        "feature_matrix = vec.fit_transform(feature_dict)"
      ],
      "execution_count": 89,
      "outputs": []
    },
    {
      "cell_type": "code",
      "metadata": {
        "colab": {
          "base_uri": "https://localhost:8080/"
        },
        "id": "6ZP0gbNcuEo5",
        "outputId": "3cba5e5a-c631-48b6-90a5-19291a5e2e2a"
      },
      "source": [
        "feature_matrix.shape"
      ],
      "execution_count": 90,
      "outputs": [
        {
          "output_type": "execute_result",
          "data": {
            "text/plain": [
              "(13535, 378)"
            ]
          },
          "metadata": {
            "tags": []
          },
          "execution_count": 90
        }
      ]
    },
    {
      "cell_type": "markdown",
      "metadata": {
        "id": "ismngxPcfoWb"
      },
      "source": [
        "## Ejercicio 2: Imputación por KNN\n",
        "\n",
        "En el teórico se presentó el método `IterativeImputer` para imputar valores faltantes en variables numéricas. Sin embargo, los ejemplos presentados sólo utilizaban algunas variables numéricas presentes en el conjunto de datos. En este ejercicio, utilizaremos la matriz de datos codificada para imputar datos faltantes de manera más precisa.\n",
        "\n",
        "1. Agregue a la matriz obtenida en el punto anterior las columnas `YearBuilt` y `BuildingArea`.\n",
        "2. Aplique una instancia de `IterativeImputer` con un estimador `KNeighborsRegressor` para imputar los valores de las variables. ¿Es necesario estandarizar o escalar los datos previamente?\n",
        "3. Realice un gráfico mostrando la distribución de cada variable antes de ser imputada, y con ambos métodos de imputación."
      ]
    },
    {
      "cell_type": "markdown",
      "metadata": {
        "id": "T6Wpg9_pcK0z"
      },
      "source": [
        "### Imputando solo con las variables YearBuilt y BuildingArea"
      ]
    },
    {
      "cell_type": "code",
      "metadata": {
        "id": "G4ClSr_JapCw"
      },
      "source": [
        "from sklearn.experimental import enable_iterative_imputer\n",
        "from sklearn.neighbors import KNeighborsRegressor\n",
        "from sklearn.impute import IterativeImputer\n",
        "\n",
        "melb_data_mice = melb_df.copy(deep=True)\n",
        "\n",
        "mice_imputer = IterativeImputer(random_state=0, estimator=KNeighborsRegressor())\n",
        "melb_data_mice[['YearBuilt','BuildingArea']] = mice_imputer.fit_transform(\n",
        "    melb_data_mice[['YearBuilt', 'BuildingArea']])"
      ],
      "execution_count": 91,
      "outputs": []
    },
    {
      "cell_type": "markdown",
      "metadata": {
        "id": "ImjXQZUbVoKH"
      },
      "source": [
        "Ejemplo de gráfico comparando las distribuciones de datos obtenidas con cada método de imputación."
      ]
    },
    {
      "cell_type": "code",
      "metadata": {
        "colab": {
          "base_uri": "https://localhost:8080/",
          "height": 355
        },
        "id": "PMK1ktqYQTJK",
        "outputId": "66eaeec2-2b21-4371-e99b-4fbd5a21ce3a"
      },
      "source": [
        "mice_year_built = melb_data_mice.YearBuilt.to_frame()\n",
        "mice_year_built['Imputation'] = 'KNN over YearBuilt and BuildingArea'\n",
        "melb_year_build = melb_df.YearBuilt.dropna().to_frame()\n",
        "melb_year_build['Imputation'] = 'Original'\n",
        "data = pd.concat([mice_year_built, melb_year_build])\n",
        "fig = plt.figure(figsize=(8, 5))\n",
        "g = sns.kdeplot(data=data, x='YearBuilt', hue='Imputation')"
      ],
      "execution_count": 92,
      "outputs": [
        {
          "output_type": "display_data",
          "data": {
            "image/png": "[encoded data removed]",
            "text/plain": [
              "<Figure size 576x360 with 1 Axes>"
            ]
          },
          "metadata": {
            "tags": [],
            "needs_background": "light"
          }
        }
      ]
    },
    {
      "cell_type": "code",
      "metadata": {
        "colab": {
          "base_uri": "https://localhost:8080/",
          "height": 355
        },
        "id": "UjfHuFBv7Eh9",
        "outputId": "67ae1925-6ade-4a23-983a-878498213205"
      },
      "source": [
        "mice_bulding = melb_data_mice.BuildingArea.to_frame()\n",
        "mice_bulding['Imputation'] = 'KNN over YearBuilt and BuildingArea'\n",
        "melb_bulding = melb_df.BuildingArea.dropna().to_frame()\n",
        "melb_bulding['Imputation'] = 'Original'\n",
        "data = pd.concat([mice_bulding, melb_bulding])\n",
        "fig = plt.figure(figsize=(8, 5))\n",
        "g = sns.kdeplot(data=data, x='BuildingArea', hue='Imputation')"
      ],
      "execution_count": 93,
      "outputs": [
        {
          "output_type": "display_data",
          "data": {
            "image/png": "[encoded data removed]",
            "text/plain": [
              "<Figure size 576x360 with 1 Axes>"
            ]
          },
          "metadata": {
            "tags": [],
            "needs_background": "light"
          }
        }
      ]
    },
    {
      "cell_type": "markdown",
      "metadata": {
        "id": "9dgnkH7ZLEgO"
      },
      "source": [
        "Al observar la distribución de los datos imputados, observamos que tienen un pico o un máximo muy alejado de la original. Es muy distinta la distribución resultante respecto a la original luego de haber hecho la imputación con solo estas 2 variables."
      ]
    },
    {
      "cell_type": "markdown",
      "metadata": {
        "id": "NlY86zMzcPCM"
      },
      "source": [
        "### Imputando con todas las columnas"
      ]
    },
    {
      "cell_type": "markdown",
      "metadata": {
        "id": "nk91cHktcSK_"
      },
      "source": [
        "Trabajamos con la salida del dictvectorizer"
      ]
    },
    {
      "cell_type": "markdown",
      "metadata": {
        "id": "Z0znh_pBxsfg"
      },
      "source": [
        "Las columnas de BuldingArea e YearBuilt son la 1 y la 376"
      ]
    },
    {
      "cell_type": "code",
      "metadata": {
        "colab": {
          "base_uri": "https://localhost:8080/"
        },
        "id": "0BXquk9pub1P",
        "outputId": "8814d924-4e5f-4029-abae-4e3783f9f610"
      },
      "source": [
        "feature_matrix[:,1]"
      ],
      "execution_count": null,
      "outputs": [
        {
          "output_type": "execute_result",
          "data": {
            "text/plain": [
              "array([ nan,  79., 150., ...,  nan, 157., 112.])"
            ]
          },
          "metadata": {
            "tags": []
          },
          "execution_count": 11
        }
      ]
    },
    {
      "cell_type": "code",
      "metadata": {
        "colab": {
          "base_uri": "https://localhost:8080/"
        },
        "id": "st9HbKp2uskE",
        "outputId": "bd1a17da-cb62-497f-9fad-56d5bdb22b39"
      },
      "source": [
        "feature_matrix[:,376]"
      ],
      "execution_count": null,
      "outputs": [
        {
          "output_type": "execute_result",
          "data": {
            "text/plain": [
              "array([  nan, 1900., 1900., ..., 1997., 1920., 1920.])"
            ]
          },
          "metadata": {
            "tags": []
          },
          "execution_count": 12
        }
      ]
    },
    {
      "cell_type": "markdown",
      "metadata": {
        "id": "WRMf27dIyHWC"
      },
      "source": [
        "Es necesario escalar las columnas numéricas antes de imputar por KNN"
      ]
    },
    {
      "cell_type": "code",
      "metadata": {
        "id": "GgBFdJGAceqs"
      },
      "source": [
        "from sklearn.preprocessing import MinMaxScaler\n",
        "scaler = MinMaxScaler()\n",
        "\n",
        "scaled = scaler.fit_transform(feature_matrix)"
      ],
      "execution_count": 94,
      "outputs": []
    },
    {
      "cell_type": "markdown",
      "metadata": {
        "id": "U4S46uktL9FZ"
      },
      "source": [
        "Atención: La siguiente celda puede tomar mucho tiempo en correr!"
      ]
    },
    {
      "cell_type": "code",
      "metadata": {
        "colab": {
          "base_uri": "https://localhost:8080/"
        },
        "id": "kyGisdU311Ps",
        "outputId": "584ac737-54c7-4789-e800-7c0fa6b1d7d6"
      },
      "source": [
        "mice_imputer = IterativeImputer(random_state=0, estimator=KNeighborsRegressor(),n_nearest_features=5)\n",
        "scaled_mice = mice_imputer.fit_transform(scaled)\n"
      ],
      "execution_count": null,
      "outputs": [
        {
          "output_type": "stream",
          "text": [
            "/usr/local/lib/python3.7/dist-packages/sklearn/impute/_iterative.py:638: ConvergenceWarning: [IterativeImputer] Early stopping criterion not reached.\n",
            "  \" reached.\", ConvergenceWarning)\n"
          ],
          "name": "stderr"
        }
      ]
    },
    {
      "cell_type": "code",
      "metadata": {
        "colab": {
          "base_uri": "https://localhost:8080/"
        },
        "id": "K0ZOsyIBHu87",
        "outputId": "0a573a1e-1011-4007-b3e4-bd4347514621"
      },
      "source": [
        "np.where(np.isnan(scaled_mice[:,1]))"
      ],
      "execution_count": null,
      "outputs": [
        {
          "output_type": "execute_result",
          "data": {
            "text/plain": [
              "(array([], dtype=int64),)"
            ]
          },
          "metadata": {
            "tags": []
          },
          "execution_count": 22
        }
      ]
    },
    {
      "cell_type": "code",
      "metadata": {
        "colab": {
          "base_uri": "https://localhost:8080/"
        },
        "id": "Tkc2W5vcH4wl",
        "outputId": "880c745a-b967-451c-ff17-756175f05b7a"
      },
      "source": [
        "np.where(np.isnan(scaled_mice[:,376]))"
      ],
      "execution_count": null,
      "outputs": [
        {
          "output_type": "execute_result",
          "data": {
            "text/plain": [
              "(array([], dtype=int64),)"
            ]
          },
          "metadata": {
            "tags": []
          },
          "execution_count": 23
        }
      ]
    },
    {
      "cell_type": "markdown",
      "metadata": {
        "id": "9JhEHyx0VvZd"
      },
      "source": [
        "#### Paso las columnas imputadas a la escala original"
      ]
    },
    {
      "cell_type": "code",
      "metadata": {
        "id": "wi_27HEcVSsp"
      },
      "source": [
        "min = np.min(melb_df.BuildingArea)\n",
        "max = np.max(melb_df.BuildingArea)\n",
        "\n",
        "buildingArea_imp = scaled_mice[:,1]*(max - min) + min"
      ],
      "execution_count": null,
      "outputs": []
    },
    {
      "cell_type": "code",
      "metadata": {
        "id": "DaCy1kcrWe-5"
      },
      "source": [
        "min = np.min(melb_df.YearBuilt)\n",
        "max = np.max(melb_df.YearBuilt)\n",
        "\n",
        "yearBuilt_imp = scaled_mice[:,376]*(max - min) + min"
      ],
      "execution_count": null,
      "outputs": []
    },
    {
      "cell_type": "code",
      "metadata": {
        "id": "JhhPLK7GWt-b",
        "colab": {
          "base_uri": "https://localhost:8080/",
          "height": 692
        },
        "outputId": "7ec61519-b14f-45d2-afcd-6f2e1a1e8705"
      },
      "source": [
        "fig = plt.figure(figsize=(8, 5))\n",
        "sns.kdeplot(data=yearBuilt_imp,label = 'KNN over YearBuilt')\n",
        "sns.kdeplot(data=melb_df.YearBuilt,label = 'Original Data')\n",
        "plt.legend()\n",
        "plt.show()\n",
        "\n",
        "fig = plt.figure(figsize=(8, 5))\n",
        "sns.kdeplot(data=buildingArea_imp,label = 'KNN over BuildingArea')\n",
        "sns.kdeplot(data=melb_df.BuildingArea,label = 'Original Data')\n",
        "plt.legend()\n",
        "plt.show()"
      ],
      "execution_count": null,
      "outputs": [
        {
          "output_type": "display_data",
          "data": {
            "image/png": "[encoded data removed]",
            "text/plain": [
              "<Figure size 576x360 with 1 Axes>"
            ]
          },
          "metadata": {
            "tags": [],
            "needs_background": "light"
          }
        },
        {
          "output_type": "display_data",
          "data": {
            "image/png": "[encoded data removed]",
            "text/plain": [
              "<Figure size 576x360 with 1 Axes>"
            ]
          },
          "metadata": {
            "tags": [],
            "needs_background": "light"
          }
        }
      ]
    },
    {
      "cell_type": "markdown",
      "metadata": {
        "id": "GwExX9mQmbnr"
      },
      "source": [
        "#### Y si sacáramos el suburb, cambia mucho la imputación?"
      ]
    },
    {
      "cell_type": "code",
      "metadata": {
        "id": "S9qsHOfYmmGr"
      },
      "source": [
        "feature_dict_2 = feature_dict.copy()\n",
        "\n",
        "for dicc in feature_dict_2:\n",
        "  del dicc['Suburb']\n"
      ],
      "execution_count": 95,
      "outputs": []
    },
    {
      "cell_type": "code",
      "metadata": {
        "colab": {
          "base_uri": "https://localhost:8080/"
        },
        "id": "gtvzBANeoV9g",
        "outputId": "4007550a-3121-4572-8dab-9c119c56abb3"
      },
      "source": [
        "feature_dict_2[0]"
      ],
      "execution_count": 96,
      "outputs": [
        {
          "output_type": "execute_result",
          "data": {
            "text/plain": [
              "{'Bathroom': 1.0,\n",
              " 'BuildingArea': nan,\n",
              " 'Car': 1.0,\n",
              " 'CouncilArea': 'Yarra',\n",
              " 'Date_Month': '2016-03-01',\n",
              " 'Distance': 2.5,\n",
              " 'Landsize': 202.0,\n",
              " 'Lattitude': -37.7996,\n",
              " 'Longtitude': 144.9984,\n",
              " 'Postcode': 3067.0,\n",
              " 'Price': 1480000.0,\n",
              " 'Propertycount': 4019.0,\n",
              " 'Rooms': 2,\n",
              " 'Type': 'h',\n",
              " 'YearBuilt': nan,\n",
              " 'airbnb_price_mean': 130.62403100775194}"
            ]
          },
          "metadata": {
            "tags": []
          },
          "execution_count": 96
        }
      ]
    },
    {
      "cell_type": "code",
      "metadata": {
        "id": "PlDgis2IosdG"
      },
      "source": [
        "from sklearn.feature_extraction import DictVectorizer\n",
        "vec = DictVectorizer(sparse=False)\n",
        "feature_matrix_2 = vec.fit_transform(feature_dict_2)"
      ],
      "execution_count": 97,
      "outputs": []
    },
    {
      "cell_type": "code",
      "metadata": {
        "colab": {
          "base_uri": "https://localhost:8080/"
        },
        "id": "YsHne3TrosdH",
        "outputId": "3f6921d3-f67c-4e0b-9966-bf4bbaf3584f"
      },
      "source": [
        "feature_matrix_2.shape"
      ],
      "execution_count": 98,
      "outputs": [
        {
          "output_type": "execute_result",
          "data": {
            "text/plain": [
              "(13535, 71)"
            ]
          },
          "metadata": {
            "tags": []
          },
          "execution_count": 98
        }
      ]
    },
    {
      "cell_type": "markdown",
      "metadata": {
        "id": "Su7fa2Fao_dE"
      },
      "source": [
        "Las columnas de BuldingArea e YearBuilt son la 1 y la 69"
      ]
    },
    {
      "cell_type": "code",
      "metadata": {
        "colab": {
          "base_uri": "https://localhost:8080/"
        },
        "id": "efGym4wco_dO",
        "outputId": "c8a29112-34c9-49b2-c47f-54ddae1c17aa"
      },
      "source": [
        "feature_matrix_2[:,1]"
      ],
      "execution_count": null,
      "outputs": [
        {
          "output_type": "execute_result",
          "data": {
            "text/plain": [
              "array([ nan,  79., 150., ...,  nan, 157., 112.])"
            ]
          },
          "metadata": {
            "tags": []
          },
          "execution_count": 24
        }
      ]
    },
    {
      "cell_type": "code",
      "metadata": {
        "colab": {
          "base_uri": "https://localhost:8080/"
        },
        "id": "GeR8KzTXo_dP",
        "outputId": "4900b0cf-e7fa-4b6a-fd38-30efdfba825c"
      },
      "source": [
        "feature_matrix_2[:,69]"
      ],
      "execution_count": null,
      "outputs": [
        {
          "output_type": "execute_result",
          "data": {
            "text/plain": [
              "array([  nan, 1900., 1900., ..., 1997., 1920., 1920.])"
            ]
          },
          "metadata": {
            "tags": []
          },
          "execution_count": 19
        }
      ]
    },
    {
      "cell_type": "code",
      "metadata": {
        "id": "R2uEKYknpvo0"
      },
      "source": [
        "from sklearn.preprocessing import MinMaxScaler\n",
        "scaler = MinMaxScaler()\n",
        "\n",
        "scaled = scaler.fit_transform(feature_matrix_2)"
      ],
      "execution_count": 99,
      "outputs": []
    },
    {
      "cell_type": "code",
      "metadata": {
        "id": "c6igYOBNpvo_"
      },
      "source": [
        "mice_imputer = IterativeImputer(random_state=0, estimator=KNeighborsRegressor(),n_nearest_features=5)\n",
        "scaled_mice = mice_imputer.fit_transform(scaled)\n"
      ],
      "execution_count": 100,
      "outputs": []
    },
    {
      "cell_type": "code",
      "metadata": {
        "colab": {
          "base_uri": "https://localhost:8080/"
        },
        "id": "tCXVjXPkqZUM",
        "outputId": "c397a9bb-ca95-423d-d815-945eb733f172"
      },
      "source": [
        "np.where(np.isnan(scaled_mice[:,1]))"
      ],
      "execution_count": null,
      "outputs": [
        {
          "output_type": "execute_result",
          "data": {
            "text/plain": [
              "(array([], dtype=int64),)"
            ]
          },
          "metadata": {
            "tags": []
          },
          "execution_count": 25
        }
      ]
    },
    {
      "cell_type": "code",
      "metadata": {
        "colab": {
          "base_uri": "https://localhost:8080/"
        },
        "id": "2ckeIBK6qZUR",
        "outputId": "bd4afc78-5c62-4caf-eea7-e124bb7c75cf"
      },
      "source": [
        "np.where(np.isnan(scaled_mice[:,69]))"
      ],
      "execution_count": null,
      "outputs": [
        {
          "output_type": "execute_result",
          "data": {
            "text/plain": [
              "(array([], dtype=int64),)"
            ]
          },
          "metadata": {
            "tags": []
          },
          "execution_count": 26
        }
      ]
    },
    {
      "cell_type": "markdown",
      "metadata": {
        "id": "9JTp69GuqZUS"
      },
      "source": [
        "#### Paso las columnas imputadas a la escala original"
      ]
    },
    {
      "cell_type": "code",
      "metadata": {
        "id": "v0QOuAmzqZUT"
      },
      "source": [
        "min = np.min(melb_df.BuildingArea)\n",
        "max = np.max(melb_df.BuildingArea)\n",
        "\n",
        "buildingArea_imp = scaled_mice[:,1]*(max - min) + min"
      ],
      "execution_count": 101,
      "outputs": []
    },
    {
      "cell_type": "code",
      "metadata": {
        "id": "bzE1qc31qZUT"
      },
      "source": [
        "min = np.min(melb_df.YearBuilt)\n",
        "max = np.max(melb_df.YearBuilt)\n",
        "\n",
        "yearBuilt_imp = scaled_mice[:,69]*(max - min) + min"
      ],
      "execution_count": 102,
      "outputs": []
    },
    {
      "cell_type": "code",
      "metadata": {
        "colab": {
          "base_uri": "https://localhost:8080/",
          "height": 698
        },
        "id": "v6rwTLXFqZUT",
        "outputId": "7ccc74df-f352-48a2-af67-cebd85e46d64"
      },
      "source": [
        "fig = plt.figure(figsize=(8, 5))\n",
        "sns.kdeplot(data=yearBuilt_imp,label = 'KNN over YearBuilt')\n",
        "sns.kdeplot(data=melb_df.YearBuilt,label = 'Original Data')\n",
        "plt.legend()\n",
        "plt.show()\n",
        "\n",
        "fig = plt.figure(figsize=(8, 5))\n",
        "sns.kdeplot(data=buildingArea_imp,label = 'KNN over BuildingArea')\n",
        "sns.kdeplot(data=melb_df.BuildingArea,label = 'Original Data')\n",
        "plt.legend()\n",
        "plt.show()"
      ],
      "execution_count": 103,
      "outputs": [
        {
          "output_type": "display_data",
          "data": {
            "image/png": "[encoded data removed]",
            "text/plain": [
              "<Figure size 576x360 with 1 Axes>"
            ]
          },
          "metadata": {
            "tags": [],
            "needs_background": "light"
          }
        },
        {
          "output_type": "display_data",
          "data": {
            "image/png": "[encoded data removed]",
            "text/plain": [
              "<Figure size 576x360 with 1 Axes>"
            ]
          },
          "metadata": {
            "tags": [],
            "needs_background": "light"
          }
        }
      ]
    },
    {
      "cell_type": "markdown",
      "metadata": {
        "id": "ltVjWNj6NY5K"
      },
      "source": [
        "Visualmente, vemos que incluso sacando la variable Suburb, el resultado no cambia mucho."
      ]
    },
    {
      "cell_type": "markdown",
      "metadata": {
        "id": "uxdl_af9OHtM"
      },
      "source": [
        "Como conclusión de esta sección, lo que observamos es que al hacer la imputación considerar todas las columnas, y no solo aquellas que queremos imputar, logra un mejor resultado. Las distribuciones de los datos imputados vs. los originales se asemejan mucho más."
      ]
    },
    {
      "cell_type": "markdown",
      "metadata": {
        "id": "NBN7-5OIxjJW"
      },
      "source": [
        "## Ejercicio 3: Reducción de dimensionalidad.\n",
        "\n",
        "Utilizando la matriz obtenida en el ejercicio anterior:\n",
        "1. Aplique `PCA` para obtener $n$ componentes principales de la matriz, donde `n = min(20, X.shape[0])`. ¿Es necesario estandarizar o escalar los datos?\n",
        "2. Grafique la varianza capturada por los primeros $n$ componentes principales, para cada $n$.\n",
        "3. En base al gráfico, seleccione las primeras $m$ columnas de la matriz transformada para agregar como nuevas características al conjunto de datos."
      ]
    },
    {
      "cell_type": "markdown",
      "metadata": {
        "id": "WKEOxKb-eUzj"
      },
      "source": [
        "**Recordar: No es muy util correr PCA sobre las categóricas del OneHotEncoding, a no ser que le logre hacer algún agrupamiento en categorías. Mejor trabajar con las numéricas continuas**"
      ]
    },
    {
      "cell_type": "markdown",
      "metadata": {
        "id": "Fcu9yH_y7oRF"
      },
      "source": [
        "#### Sacamos de la matriz a las variables categóricas"
      ]
    },
    {
      "cell_type": "code",
      "metadata": {
        "colab": {
          "base_uri": "https://localhost:8080/"
        },
        "id": "Df7N_grM8k4b",
        "outputId": "b0306d79-a0a2-49c4-fb1a-60be26a6639f"
      },
      "source": [
        "feature_dict_2[0]"
      ],
      "execution_count": 104,
      "outputs": [
        {
          "output_type": "execute_result",
          "data": {
            "text/plain": [
              "{'Bathroom': 1.0,\n",
              " 'BuildingArea': nan,\n",
              " 'Car': 1.0,\n",
              " 'CouncilArea': 'Yarra',\n",
              " 'Date_Month': '2016-03-01',\n",
              " 'Distance': 2.5,\n",
              " 'Landsize': 202.0,\n",
              " 'Lattitude': -37.7996,\n",
              " 'Longtitude': 144.9984,\n",
              " 'Postcode': 3067.0,\n",
              " 'Price': 1480000.0,\n",
              " 'Propertycount': 4019.0,\n",
              " 'Rooms': 2,\n",
              " 'Type': 'h',\n",
              " 'YearBuilt': nan,\n",
              " 'airbnb_price_mean': 130.62403100775194}"
            ]
          },
          "metadata": {
            "tags": []
          },
          "execution_count": 104
        }
      ]
    },
    {
      "cell_type": "code",
      "metadata": {
        "colab": {
          "base_uri": "https://localhost:8080/"
        },
        "id": "U0w3N2E--75s",
        "outputId": "a1da8621-662c-40d8-8369-df7feff0d7c3"
      },
      "source": [
        "len(np.unique(melb_df.CouncilArea))"
      ],
      "execution_count": null,
      "outputs": [
        {
          "output_type": "execute_result",
          "data": {
            "text/plain": [
              "33"
            ]
          },
          "metadata": {
            "tags": []
          },
          "execution_count": 31
        }
      ]
    },
    {
      "cell_type": "code",
      "metadata": {
        "colab": {
          "base_uri": "https://localhost:8080/"
        },
        "id": "ZhkpjyDG_HHC",
        "outputId": "44ad6cc6-a3de-4770-b51b-a7c45e1720db"
      },
      "source": [
        "len(np.unique(melb_df.Date_Month))"
      ],
      "execution_count": null,
      "outputs": [
        {
          "output_type": "execute_result",
          "data": {
            "text/plain": [
              "22"
            ]
          },
          "metadata": {
            "tags": []
          },
          "execution_count": 32
        }
      ]
    },
    {
      "cell_type": "code",
      "metadata": {
        "colab": {
          "base_uri": "https://localhost:8080/"
        },
        "id": "8nbkAUCY_Wil",
        "outputId": "5e356a45-601d-4c4f-db13-e24f6d5ab1e5"
      },
      "source": [
        "len(np.unique(melb_df.Type))"
      ],
      "execution_count": null,
      "outputs": [
        {
          "output_type": "execute_result",
          "data": {
            "text/plain": [
              "3"
            ]
          },
          "metadata": {
            "tags": []
          },
          "execution_count": 33
        }
      ]
    },
    {
      "cell_type": "markdown",
      "metadata": {
        "id": "0d3PmZLC_f42"
      },
      "source": [
        "Tengo que excluir  33 + 22 + 3 = 58 columnas que corresponden a las categóricas, y también eliminar la que corresponde a PostCode porque en realidad no es numérica\n",
        "\n",
        "**Esto debemos hacerlo sobre la matriz que tiene los valores escalados, si no puede distorsionarse el análisis y la determinación de las principales direcciones de variabilidad**"
      ]
    },
    {
      "cell_type": "code",
      "metadata": {
        "id": "2B92DIIq_t_M"
      },
      "source": [
        "scaled_mice_numeric = scaled_mice[:,:3]\n",
        "scaled_mice_numeric = np.hstack((scaled_mice_numeric,scaled_mice[:,58:62]))\n",
        "scaled_mice_numeric = np.hstack((scaled_mice_numeric,scaled_mice[:,63:66]))\n",
        "scaled_mice_numeric = np.hstack((scaled_mice_numeric,scaled_mice[:,69:71]))"
      ],
      "execution_count": 105,
      "outputs": []
    },
    {
      "cell_type": "markdown",
      "metadata": {
        "id": "5iOUlyF9HO1s"
      },
      "source": [
        "Me queda una matriz con solamente 12 columnas (las numéricas). Sobre esa aplicaré el PCA"
      ]
    },
    {
      "cell_type": "code",
      "metadata": {
        "colab": {
          "base_uri": "https://localhost:8080/"
        },
        "id": "UgfFlRVlFJ6S",
        "outputId": "64c6f26c-fc6c-427f-b516-08857138d9e8"
      },
      "source": [
        "scaled_mice_numeric.shape"
      ],
      "execution_count": null,
      "outputs": [
        {
          "output_type": "execute_result",
          "data": {
            "text/plain": [
              "(13535, 12)"
            ]
          },
          "metadata": {
            "tags": []
          },
          "execution_count": 35
        }
      ]
    },
    {
      "cell_type": "markdown",
      "metadata": {
        "id": "cDVnZbueNTVs"
      },
      "source": [
        "#### Ahora hacemos el PCA"
      ]
    },
    {
      "cell_type": "code",
      "metadata": {
        "colab": {
          "base_uri": "https://localhost:8080/"
        },
        "id": "y58w-JxUNU6n",
        "outputId": "fb29b8fd-c28f-4095-e069-f512ca73eef6"
      },
      "source": [
        "from sklearn.decomposition import PCA\n",
        "n = np.min((20, scaled_mice_numeric.shape[1]))\n",
        "n"
      ],
      "execution_count": 106,
      "outputs": [
        {
          "output_type": "execute_result",
          "data": {
            "text/plain": [
              "12"
            ]
          },
          "metadata": {
            "tags": []
          },
          "execution_count": 106
        }
      ]
    },
    {
      "cell_type": "code",
      "metadata": {
        "colab": {
          "base_uri": "https://localhost:8080/"
        },
        "id": "2g1VzQyaNb57",
        "outputId": "c166e2a9-d254-4408-b37d-36664b995c35"
      },
      "source": [
        "pca = PCA(n_components=n)\n",
        "pca.fit(scaled_mice_numeric)\n",
        "proyected_features = pca.transform(scaled_mice_numeric)\n",
        "proyected_features.shape"
      ],
      "execution_count": 107,
      "outputs": [
        {
          "output_type": "execute_result",
          "data": {
            "text/plain": [
              "(13535, 12)"
            ]
          },
          "metadata": {
            "tags": []
          },
          "execution_count": 107
        }
      ]
    },
    {
      "cell_type": "markdown",
      "metadata": {
        "id": "MAQ9kboSP3eW"
      },
      "source": [
        "#### Graficamos las varianzas"
      ]
    },
    {
      "cell_type": "code",
      "metadata": {
        "id": "OJfa7ntbPmqz"
      },
      "source": [
        "varianzas = pca.explained_variance_ratio_"
      ],
      "execution_count": 108,
      "outputs": []
    },
    {
      "cell_type": "code",
      "metadata": {
        "colab": {
          "base_uri": "https://localhost:8080/",
          "height": 667
        },
        "id": "_1foMxFPP2vW",
        "outputId": "b43e5c9e-ef49-4e13-db5e-3e7ec65327fa"
      },
      "source": [
        "import warnings\n",
        "warnings.filterwarnings('ignore')\n",
        "\n",
        "plt.figure(figsize=(10,10))\n",
        "x = np.arange(12)+1\n",
        "sns.scatterplot(x=x, y = varianzas, s = 100, color = 'red')\n",
        "plt.xlim(-1,13)\n",
        "plt.xticks(np.arange(0,13))\n",
        "plt.xlabel(\"Componente\")\n",
        "plt.title(\"Proporción de la varianza explicada \\n por cada una de las componentes\")\n",
        "for i,varianza in enumerate(varianzas):\n",
        "\tplt.annotate(f'{varianza:3.2f}', (x[i],varianzas[i]), fontsize = 12,textcoords='offset points')\n",
        "plt.show()"
      ],
      "execution_count": 109,
      "outputs": [
        {
          "output_type": "display_data",
          "data": {
            "image/png": "[encoded data removed]",
            "text/plain": [
              "<Figure size 720x720 with 1 Axes>"
            ]
          },
          "metadata": {
            "tags": [],
            "needs_background": "light"
          }
        }
      ]
    },
    {
      "cell_type": "markdown",
      "metadata": {
        "id": "XJZy-_zfSvBx"
      },
      "source": [
        "### Sumamos las primeras 3 componentes a la matriz de datos"
      ]
    },
    {
      "cell_type": "code",
      "metadata": {
        "id": "pwCQv73OS02-"
      },
      "source": [
        "scaled_mice_numeric = np.hstack((scaled_mice_numeric,proyected_features[:,:3]))"
      ],
      "execution_count": 110,
      "outputs": []
    },
    {
      "cell_type": "markdown",
      "metadata": {
        "id": "WrZTYmG_ZyDy"
      },
      "source": [
        "## Ejercicio 4: Composición del resultado\n",
        "\n",
        "Transformar nuevamente el conjunto de datos procesado en un `pandas.DataFrame` y guardarlo en un archivo.\n",
        "\n",
        "Para eso, será necesario recordar el nombre original de cada columna de la matriz, en el orden correcto. Tener en cuenta:\n",
        "1. El método `OneHotEncoder.get_feature_names` o el atributo `OneHotEncoder.categories_` permiten obtener una lista con los valores de la categoría que le corresponde a cada índice de la matriz.\n",
        "2. Ninguno de los métodos aplicados intercambia de lugar las columnas o las filas de la matriz."
      ]
    },
    {
      "cell_type": "code",
      "metadata": {
        "colab": {
          "base_uri": "https://localhost:8080/"
        },
        "id": "YNS7uH4slyGP",
        "outputId": "37d04943-28d2-4e6e-e42e-8e5ffb5fbc4b"
      },
      "source": [
        "melb_df.columns"
      ],
      "execution_count": null,
      "outputs": [
        {
          "output_type": "execute_result",
          "data": {
            "text/plain": [
              "Index(['Suburb', 'Rooms', 'Type', 'Price', 'Distance', 'Postcode', 'Bathroom',\n",
              "       'Car', 'Landsize', 'BuildingArea', 'YearBuilt', 'CouncilArea',\n",
              "       'Lattitude', 'Longtitude', 'Propertycount', 'Date_Month',\n",
              "       'airbnb_price_mean'],\n",
              "      dtype='object')"
            ]
          },
          "metadata": {
            "tags": []
          },
          "execution_count": 46
        }
      ]
    },
    {
      "cell_type": "markdown",
      "metadata": {
        "id": "jasdZDnqpisq"
      },
      "source": [
        "Definimos las listas de columnas categóricas y numéricas. Quizá PostCode deberia ir categórica (se agranda mucho la matriz, pero corresponderia mas)"
      ]
    },
    {
      "cell_type": "code",
      "metadata": {
        "id": "X2Nq5L9oahjf"
      },
      "source": [
        "categorical_cols = ['Suburb','Type','CouncilArea','Date_Month']\n",
        "numerical_cols = ['Bathroom','Car','Distance','Landsize','Lattitude','Longtitude','Postcode','Price','Propertycount','Rooms','airbnb_price_mean']\n",
        "\n",
        "new_columns = []"
      ],
      "execution_count": 111,
      "outputs": []
    },
    {
      "cell_type": "code",
      "metadata": {
        "colab": {
          "base_uri": "https://localhost:8080/"
        },
        "id": "YdQk__DLeHe7",
        "outputId": "300f2245-61aa-477c-e7c2-001a1ac2bf97"
      },
      "source": [
        "# Step 1: encode categorical columns\n",
        "from sklearn.preprocessing import OneHotEncoder\n",
        "encoder = OneHotEncoder(handle_unknown='ignore', sparse=False)\n",
        "X_cat = encoder.fit_transform(melb_df[categorical_cols])\n",
        "for col, col_values in zip(categorical_cols, encoder.categories_):\n",
        "  for col_value in col_values:\n",
        "    new_columns.append('{}={}'.format(col, col_value))\n",
        "print(\"Matrix has shape {}, with columns: {}\".format(X_cat.shape, new_columns))"
      ],
      "execution_count": 112,
      "outputs": [
        {
          "output_type": "stream",
          "text": [
            "Matrix has shape (13535, 365), with columns: ['Suburb=Abbotsford', 'Suburb=Aberfeldie', 'Suburb=Airport West', 'Suburb=Albanvale', 'Suburb=Albert Park', 'Suburb=Albion', 'Suburb=Alphington', 'Suburb=Altona', 'Suburb=Altona Meadows', 'Suburb=Altona North', 'Suburb=Ardeer', 'Suburb=Armadale', 'Suburb=Ascot Vale', 'Suburb=Ashburton', 'Suburb=Ashwood', 'Suburb=Aspendale', 'Suburb=Aspendale Gardens', 'Suburb=Avondale Heights', 'Suburb=Bacchus Marsh', 'Suburb=Balaclava', 'Suburb=Balwyn', 'Suburb=Balwyn North', 'Suburb=Bayswater', 'Suburb=Bayswater North', 'Suburb=Beaconsfield', 'Suburb=Beaconsfield Upper', 'Suburb=Beaumaris', 'Suburb=Bellfield', 'Suburb=Bentleigh', 'Suburb=Bentleigh East', 'Suburb=Berwick', 'Suburb=Black Rock', 'Suburb=Blackburn', 'Suburb=Blackburn North', 'Suburb=Blackburn South', 'Suburb=Bonbeach', 'Suburb=Boronia', 'Suburb=Box Hill', 'Suburb=Braybrook', 'Suburb=Briar Hill', 'Suburb=Brighton', 'Suburb=Brighton East', 'Suburb=Broadmeadows', 'Suburb=Brookfield', 'Suburb=Brooklyn', 'Suburb=Brunswick', 'Suburb=Brunswick East', 'Suburb=Brunswick West', 'Suburb=Bulleen', 'Suburb=Bullengarook', 'Suburb=Bundoora', 'Suburb=Burnley', 'Suburb=Burnside Heights', 'Suburb=Burwood', 'Suburb=Burwood East', 'Suburb=Cairnlea', 'Suburb=Camberwell', 'Suburb=Campbellfield', 'Suburb=Canterbury', 'Suburb=Carlton', 'Suburb=Carlton North', 'Suburb=Carnegie', 'Suburb=Caroline Springs', 'Suburb=Carrum', 'Suburb=Carrum Downs', 'Suburb=Caulfield', 'Suburb=Caulfield East', 'Suburb=Caulfield North', 'Suburb=Caulfield South', 'Suburb=Chadstone', 'Suburb=Chelsea', 'Suburb=Chelsea Heights', 'Suburb=Cheltenham', 'Suburb=Chirnside Park', 'Suburb=Clarinda', 'Suburb=Clayton', 'Suburb=Clayton South', 'Suburb=Clifton Hill', 'Suburb=Coburg', 'Suburb=Coburg North', 'Suburb=Collingwood', 'Suburb=Coolaroo', 'Suburb=Craigieburn', 'Suburb=Cranbourne', 'Suburb=Cranbourne North', 'Suburb=Cremorne', 'Suburb=Croydon', 'Suburb=Croydon Hills', 'Suburb=Croydon North', 'Suburb=Croydon South', 'Suburb=Dallas', 'Suburb=Dandenong', 'Suburb=Dandenong North', 'Suburb=Deepdene', 'Suburb=Deer Park', 'Suburb=Delahey', 'Suburb=Derrimut', 'Suburb=Diamond Creek', 'Suburb=Diggers Rest', 'Suburb=Dingley Village', 'Suburb=Docklands', 'Suburb=Doncaster', 'Suburb=Doncaster East', 'Suburb=Donvale', 'Suburb=Doreen', 'Suburb=Doveton', 'Suburb=Eaglemont', 'Suburb=East Melbourne', 'Suburb=Edithvale', 'Suburb=Elsternwick', 'Suburb=Eltham', 'Suburb=Eltham North', 'Suburb=Elwood', 'Suburb=Emerald', 'Suburb=Endeavour Hills', 'Suburb=Epping', 'Suburb=Essendon', 'Suburb=Essendon North', 'Suburb=Essendon West', 'Suburb=Fairfield', 'Suburb=Fawkner', 'Suburb=Ferntree Gully', 'Suburb=Fitzroy', 'Suburb=Fitzroy North', 'Suburb=Flemington', 'Suburb=Footscray', 'Suburb=Forest Hill', 'Suburb=Frankston', 'Suburb=Frankston North', 'Suburb=Frankston South', 'Suburb=Gardenvale', 'Suburb=Gisborne', 'Suburb=Gladstone Park', 'Suburb=Glen Huntly', 'Suburb=Glen Iris', 'Suburb=Glen Waverley', 'Suburb=Glenroy', 'Suburb=Gowanbrae', 'Suburb=Greensborough', 'Suburb=Greenvale', 'Suburb=Hadfield', 'Suburb=Hallam', 'Suburb=Hampton', 'Suburb=Hampton East', 'Suburb=Hampton Park', 'Suburb=Hawthorn', 'Suburb=Hawthorn East', 'Suburb=Healesville', 'Suburb=Heathmont', 'Suburb=Heidelberg', 'Suburb=Heidelberg Heights', 'Suburb=Heidelberg West', 'Suburb=Highett', 'Suburb=Hillside', 'Suburb=Hoppers Crossing', 'Suburb=Hughesdale', 'Suburb=Huntingdale', 'Suburb=Hurstbridge', 'Suburb=Ivanhoe', 'Suburb=Ivanhoe East', 'Suburb=Jacana', 'Suburb=Kealba', 'Suburb=Keilor', 'Suburb=Keilor Downs', 'Suburb=Keilor East', 'Suburb=Keilor Lodge', 'Suburb=Keilor Park', 'Suburb=Kensington', 'Suburb=Kew', 'Suburb=Kew East', 'Suburb=Keysborough', 'Suburb=Kilsyth', 'Suburb=Kings Park', 'Suburb=Kingsbury', 'Suburb=Kingsville', 'Suburb=Knoxfield', 'Suburb=Kooyong', 'Suburb=Kurunjang', 'Suburb=Lalor', 'Suburb=Langwarrin', 'Suburb=Lower Plenty', 'Suburb=Maidstone', 'Suburb=Malvern', 'Suburb=Malvern East', 'Suburb=Maribyrnong', 'Suburb=McKinnon', 'Suburb=Meadow Heights', 'Suburb=Melbourne', 'Suburb=Melton', 'Suburb=Melton South', 'Suburb=Melton West', 'Suburb=Mentone', 'Suburb=Mernda', 'Suburb=Middle Park', 'Suburb=Mill Park', 'Suburb=Mitcham', 'Suburb=Mont Albert', 'Suburb=Montmorency', 'Suburb=Montrose', 'Suburb=Moonee Ponds', 'Suburb=Moorabbin', 'Suburb=Mooroolbark', 'Suburb=Mordialloc', 'Suburb=Mount Evelyn', 'Suburb=Mount Waverley', 'Suburb=Mulgrave', 'Suburb=Murrumbeena', 'Suburb=Narre Warren', 'Suburb=Newport', 'Suburb=Niddrie', 'Suburb=Noble Park', 'Suburb=North Melbourne', 'Suburb=North Warrandyte', 'Suburb=Northcote', 'Suburb=Notting Hill', 'Suburb=Nunawading', 'Suburb=Oak Park', 'Suburb=Oakleigh', 'Suburb=Oakleigh East', 'Suburb=Oakleigh South', 'Suburb=Officer', 'Suburb=Ormond', 'Suburb=Pakenham', 'Suburb=Parkdale', 'Suburb=Parkville', 'Suburb=Pascoe Vale', 'Suburb=Point Cook', 'Suburb=Port Melbourne', 'Suburb=Prahran', 'Suburb=Preston', 'Suburb=Princes Hill', 'Suburb=Reservoir', 'Suburb=Richmond', 'Suburb=Riddells Creek', 'Suburb=Ringwood', 'Suburb=Ringwood East', 'Suburb=Ringwood North', 'Suburb=Ripponlea', 'Suburb=Rockbank', 'Suburb=Rosanna', 'Suburb=Rowville', 'Suburb=Roxburgh Park', 'Suburb=Sandhurst', 'Suburb=Sandringham', 'Suburb=Scoresby', 'Suburb=Seabrook', 'Suburb=Seaford', 'Suburb=Seaholme', 'Suburb=Seddon', 'Suburb=Skye', 'Suburb=South Kingsville', 'Suburb=South Melbourne', 'Suburb=South Morang', 'Suburb=South Yarra', 'Suburb=Southbank', 'Suburb=Spotswood', 'Suburb=Springvale', 'Suburb=Springvale South', 'Suburb=St Albans', 'Suburb=St Helena', 'Suburb=St Kilda', 'Suburb=Strathmore', 'Suburb=Strathmore Heights', 'Suburb=Sunbury', 'Suburb=Sunshine', 'Suburb=Sunshine North', 'Suburb=Sunshine West', 'Suburb=Surrey Hills', 'Suburb=Sydenham', 'Suburb=Tarneit', 'Suburb=Taylors Hill', 'Suburb=Taylors Lakes', 'Suburb=Templestowe', 'Suburb=Templestowe Lower', 'Suburb=The Basin', 'Suburb=Thomastown', 'Suburb=Thornbury', 'Suburb=Toorak', 'Suburb=Travancore', 'Suburb=Truganina', 'Suburb=Tullamarine', 'Suburb=Upwey', 'Suburb=Vermont', 'Suburb=Vermont South', 'Suburb=Viewbank', 'Suburb=Wantirna', 'Suburb=Wantirna South', 'Suburb=Warrandyte', 'Suburb=Waterways', 'Suburb=Watsonia', 'Suburb=Watsonia North', 'Suburb=Werribee', 'Suburb=West Footscray', 'Suburb=West Melbourne', 'Suburb=Westmeadows', 'Suburb=Wheelers Hill', 'Suburb=Whittlesea', 'Suburb=Williams Landing', 'Suburb=Williamstown', 'Suburb=Williamstown North', 'Suburb=Windsor', 'Suburb=Wollert', 'Suburb=Wonga Park', 'Suburb=Wyndham Vale', 'Suburb=Yallambie', 'Suburb=Yarra Glen', 'Suburb=Yarraville', 'Type=h', 'Type=t', 'Type=u', 'CouncilArea=Banyule', 'CouncilArea=Bayside', 'CouncilArea=Boroondara', 'CouncilArea=Brimbank', 'CouncilArea=Cardinia', 'CouncilArea=Casey', 'CouncilArea=Darebin', 'CouncilArea=Frankston', 'CouncilArea=Glen Eira', 'CouncilArea=Greater Dandenong', 'CouncilArea=Hobsons Bay', 'CouncilArea=Hume', 'CouncilArea=Kingston', 'CouncilArea=Knox', 'CouncilArea=Macedon Ranges', 'CouncilArea=Manningham', 'CouncilArea=Maribyrnong', 'CouncilArea=Maroondah', 'CouncilArea=Melbourne', 'CouncilArea=Melton', 'CouncilArea=Monash', 'CouncilArea=Moonee Valley', 'CouncilArea=Moorabool', 'CouncilArea=Moreland', 'CouncilArea=Nillumbik', 'CouncilArea=Port Phillip', 'CouncilArea=Stonnington', 'CouncilArea=Unavailable', 'CouncilArea=Whitehorse', 'CouncilArea=Whittlesea', 'CouncilArea=Wyndham', 'CouncilArea=Yarra', 'CouncilArea=Yarra Ranges', 'Date_Month=2016-01-01', 'Date_Month=2016-03-01', 'Date_Month=2016-04-01', 'Date_Month=2016-05-01', 'Date_Month=2016-06-01', 'Date_Month=2016-07-01', 'Date_Month=2016-08-01', 'Date_Month=2016-09-01', 'Date_Month=2016-10-01', 'Date_Month=2016-11-01', 'Date_Month=2016-12-01', 'Date_Month=2017-01-01', 'Date_Month=2017-02-01', 'Date_Month=2017-03-01', 'Date_Month=2017-04-01', 'Date_Month=2017-05-01', 'Date_Month=2017-06-01', 'Date_Month=2017-07-01', 'Date_Month=2017-08-01', 'Date_Month=2017-09-01', 'Date_Month=2017-11-01', 'Date_Month=2017-12-01']\n"
          ],
          "name": "stdout"
        }
      ]
    },
    {
      "cell_type": "markdown",
      "metadata": {
        "id": "ZTbbu2wFwxAh"
      },
      "source": [
        "En relación a las columnas numéricas, tomamos los valores pero escalados"
      ]
    },
    {
      "cell_type": "code",
      "metadata": {
        "id": "itcTIrpsRGMW"
      },
      "source": [
        "melb_df_num = melb_df[numerical_cols]"
      ],
      "execution_count": 113,
      "outputs": []
    },
    {
      "cell_type": "code",
      "metadata": {
        "id": "5iYV50GkRqlw"
      },
      "source": [
        "scaler = MinMaxScaler()\n",
        "columnas = melb_df_num.columns\n",
        "melb_df_num_scaled = scaler.fit_transform(melb_df_num)\n",
        "\n"
      ],
      "execution_count": 114,
      "outputs": []
    },
    {
      "cell_type": "code",
      "metadata": {
        "id": "4onXnn2gSXXZ"
      },
      "source": [
        "melb_df_num = pd.DataFrame(melb_df_num_scaled,columns = columnas )"
      ],
      "execution_count": 115,
      "outputs": []
    },
    {
      "cell_type": "code",
      "metadata": {
        "colab": {
          "base_uri": "https://localhost:8080/"
        },
        "id": "0hIJOSwfeOrW",
        "outputId": "65b44010-c200-4fbc-fec9-5d8108540997"
      },
      "source": [
        "# Step 2: Append the numerical columns\n",
        "X = np.hstack([X_cat, melb_df_num.values])\n",
        "new_columns.extend(numerical_cols)\n",
        "print(\"Matrix has shape {}, with columns: {}\".format(X.shape, new_columns))"
      ],
      "execution_count": 116,
      "outputs": [
        {
          "output_type": "stream",
          "text": [
            "Matrix has shape (13535, 376), with columns: ['Suburb=Abbotsford', 'Suburb=Aberfeldie', 'Suburb=Airport West', 'Suburb=Albanvale', 'Suburb=Albert Park', 'Suburb=Albion', 'Suburb=Alphington', 'Suburb=Altona', 'Suburb=Altona Meadows', 'Suburb=Altona North', 'Suburb=Ardeer', 'Suburb=Armadale', 'Suburb=Ascot Vale', 'Suburb=Ashburton', 'Suburb=Ashwood', 'Suburb=Aspendale', 'Suburb=Aspendale Gardens', 'Suburb=Avondale Heights', 'Suburb=Bacchus Marsh', 'Suburb=Balaclava', 'Suburb=Balwyn', 'Suburb=Balwyn North', 'Suburb=Bayswater', 'Suburb=Bayswater North', 'Suburb=Beaconsfield', 'Suburb=Beaconsfield Upper', 'Suburb=Beaumaris', 'Suburb=Bellfield', 'Suburb=Bentleigh', 'Suburb=Bentleigh East', 'Suburb=Berwick', 'Suburb=Black Rock', 'Suburb=Blackburn', 'Suburb=Blackburn North', 'Suburb=Blackburn South', 'Suburb=Bonbeach', 'Suburb=Boronia', 'Suburb=Box Hill', 'Suburb=Braybrook', 'Suburb=Briar Hill', 'Suburb=Brighton', 'Suburb=Brighton East', 'Suburb=Broadmeadows', 'Suburb=Brookfield', 'Suburb=Brooklyn', 'Suburb=Brunswick', 'Suburb=Brunswick East', 'Suburb=Brunswick West', 'Suburb=Bulleen', 'Suburb=Bullengarook', 'Suburb=Bundoora', 'Suburb=Burnley', 'Suburb=Burnside Heights', 'Suburb=Burwood', 'Suburb=Burwood East', 'Suburb=Cairnlea', 'Suburb=Camberwell', 'Suburb=Campbellfield', 'Suburb=Canterbury', 'Suburb=Carlton', 'Suburb=Carlton North', 'Suburb=Carnegie', 'Suburb=Caroline Springs', 'Suburb=Carrum', 'Suburb=Carrum Downs', 'Suburb=Caulfield', 'Suburb=Caulfield East', 'Suburb=Caulfield North', 'Suburb=Caulfield South', 'Suburb=Chadstone', 'Suburb=Chelsea', 'Suburb=Chelsea Heights', 'Suburb=Cheltenham', 'Suburb=Chirnside Park', 'Suburb=Clarinda', 'Suburb=Clayton', 'Suburb=Clayton South', 'Suburb=Clifton Hill', 'Suburb=Coburg', 'Suburb=Coburg North', 'Suburb=Collingwood', 'Suburb=Coolaroo', 'Suburb=Craigieburn', 'Suburb=Cranbourne', 'Suburb=Cranbourne North', 'Suburb=Cremorne', 'Suburb=Croydon', 'Suburb=Croydon Hills', 'Suburb=Croydon North', 'Suburb=Croydon South', 'Suburb=Dallas', 'Suburb=Dandenong', 'Suburb=Dandenong North', 'Suburb=Deepdene', 'Suburb=Deer Park', 'Suburb=Delahey', 'Suburb=Derrimut', 'Suburb=Diamond Creek', 'Suburb=Diggers Rest', 'Suburb=Dingley Village', 'Suburb=Docklands', 'Suburb=Doncaster', 'Suburb=Doncaster East', 'Suburb=Donvale', 'Suburb=Doreen', 'Suburb=Doveton', 'Suburb=Eaglemont', 'Suburb=East Melbourne', 'Suburb=Edithvale', 'Suburb=Elsternwick', 'Suburb=Eltham', 'Suburb=Eltham North', 'Suburb=Elwood', 'Suburb=Emerald', 'Suburb=Endeavour Hills', 'Suburb=Epping', 'Suburb=Essendon', 'Suburb=Essendon North', 'Suburb=Essendon West', 'Suburb=Fairfield', 'Suburb=Fawkner', 'Suburb=Ferntree Gully', 'Suburb=Fitzroy', 'Suburb=Fitzroy North', 'Suburb=Flemington', 'Suburb=Footscray', 'Suburb=Forest Hill', 'Suburb=Frankston', 'Suburb=Frankston North', 'Suburb=Frankston South', 'Suburb=Gardenvale', 'Suburb=Gisborne', 'Suburb=Gladstone Park', 'Suburb=Glen Huntly', 'Suburb=Glen Iris', 'Suburb=Glen Waverley', 'Suburb=Glenroy', 'Suburb=Gowanbrae', 'Suburb=Greensborough', 'Suburb=Greenvale', 'Suburb=Hadfield', 'Suburb=Hallam', 'Suburb=Hampton', 'Suburb=Hampton East', 'Suburb=Hampton Park', 'Suburb=Hawthorn', 'Suburb=Hawthorn East', 'Suburb=Healesville', 'Suburb=Heathmont', 'Suburb=Heidelberg', 'Suburb=Heidelberg Heights', 'Suburb=Heidelberg West', 'Suburb=Highett', 'Suburb=Hillside', 'Suburb=Hoppers Crossing', 'Suburb=Hughesdale', 'Suburb=Huntingdale', 'Suburb=Hurstbridge', 'Suburb=Ivanhoe', 'Suburb=Ivanhoe East', 'Suburb=Jacana', 'Suburb=Kealba', 'Suburb=Keilor', 'Suburb=Keilor Downs', 'Suburb=Keilor East', 'Suburb=Keilor Lodge', 'Suburb=Keilor Park', 'Suburb=Kensington', 'Suburb=Kew', 'Suburb=Kew East', 'Suburb=Keysborough', 'Suburb=Kilsyth', 'Suburb=Kings Park', 'Suburb=Kingsbury', 'Suburb=Kingsville', 'Suburb=Knoxfield', 'Suburb=Kooyong', 'Suburb=Kurunjang', 'Suburb=Lalor', 'Suburb=Langwarrin', 'Suburb=Lower Plenty', 'Suburb=Maidstone', 'Suburb=Malvern', 'Suburb=Malvern East', 'Suburb=Maribyrnong', 'Suburb=McKinnon', 'Suburb=Meadow Heights', 'Suburb=Melbourne', 'Suburb=Melton', 'Suburb=Melton South', 'Suburb=Melton West', 'Suburb=Mentone', 'Suburb=Mernda', 'Suburb=Middle Park', 'Suburb=Mill Park', 'Suburb=Mitcham', 'Suburb=Mont Albert', 'Suburb=Montmorency', 'Suburb=Montrose', 'Suburb=Moonee Ponds', 'Suburb=Moorabbin', 'Suburb=Mooroolbark', 'Suburb=Mordialloc', 'Suburb=Mount Evelyn', 'Suburb=Mount Waverley', 'Suburb=Mulgrave', 'Suburb=Murrumbeena', 'Suburb=Narre Warren', 'Suburb=Newport', 'Suburb=Niddrie', 'Suburb=Noble Park', 'Suburb=North Melbourne', 'Suburb=North Warrandyte', 'Suburb=Northcote', 'Suburb=Notting Hill', 'Suburb=Nunawading', 'Suburb=Oak Park', 'Suburb=Oakleigh', 'Suburb=Oakleigh East', 'Suburb=Oakleigh South', 'Suburb=Officer', 'Suburb=Ormond', 'Suburb=Pakenham', 'Suburb=Parkdale', 'Suburb=Parkville', 'Suburb=Pascoe Vale', 'Suburb=Point Cook', 'Suburb=Port Melbourne', 'Suburb=Prahran', 'Suburb=Preston', 'Suburb=Princes Hill', 'Suburb=Reservoir', 'Suburb=Richmond', 'Suburb=Riddells Creek', 'Suburb=Ringwood', 'Suburb=Ringwood East', 'Suburb=Ringwood North', 'Suburb=Ripponlea', 'Suburb=Rockbank', 'Suburb=Rosanna', 'Suburb=Rowville', 'Suburb=Roxburgh Park', 'Suburb=Sandhurst', 'Suburb=Sandringham', 'Suburb=Scoresby', 'Suburb=Seabrook', 'Suburb=Seaford', 'Suburb=Seaholme', 'Suburb=Seddon', 'Suburb=Skye', 'Suburb=South Kingsville', 'Suburb=South Melbourne', 'Suburb=South Morang', 'Suburb=South Yarra', 'Suburb=Southbank', 'Suburb=Spotswood', 'Suburb=Springvale', 'Suburb=Springvale South', 'Suburb=St Albans', 'Suburb=St Helena', 'Suburb=St Kilda', 'Suburb=Strathmore', 'Suburb=Strathmore Heights', 'Suburb=Sunbury', 'Suburb=Sunshine', 'Suburb=Sunshine North', 'Suburb=Sunshine West', 'Suburb=Surrey Hills', 'Suburb=Sydenham', 'Suburb=Tarneit', 'Suburb=Taylors Hill', 'Suburb=Taylors Lakes', 'Suburb=Templestowe', 'Suburb=Templestowe Lower', 'Suburb=The Basin', 'Suburb=Thomastown', 'Suburb=Thornbury', 'Suburb=Toorak', 'Suburb=Travancore', 'Suburb=Truganina', 'Suburb=Tullamarine', 'Suburb=Upwey', 'Suburb=Vermont', 'Suburb=Vermont South', 'Suburb=Viewbank', 'Suburb=Wantirna', 'Suburb=Wantirna South', 'Suburb=Warrandyte', 'Suburb=Waterways', 'Suburb=Watsonia', 'Suburb=Watsonia North', 'Suburb=Werribee', 'Suburb=West Footscray', 'Suburb=West Melbourne', 'Suburb=Westmeadows', 'Suburb=Wheelers Hill', 'Suburb=Whittlesea', 'Suburb=Williams Landing', 'Suburb=Williamstown', 'Suburb=Williamstown North', 'Suburb=Windsor', 'Suburb=Wollert', 'Suburb=Wonga Park', 'Suburb=Wyndham Vale', 'Suburb=Yallambie', 'Suburb=Yarra Glen', 'Suburb=Yarraville', 'Type=h', 'Type=t', 'Type=u', 'CouncilArea=Banyule', 'CouncilArea=Bayside', 'CouncilArea=Boroondara', 'CouncilArea=Brimbank', 'CouncilArea=Cardinia', 'CouncilArea=Casey', 'CouncilArea=Darebin', 'CouncilArea=Frankston', 'CouncilArea=Glen Eira', 'CouncilArea=Greater Dandenong', 'CouncilArea=Hobsons Bay', 'CouncilArea=Hume', 'CouncilArea=Kingston', 'CouncilArea=Knox', 'CouncilArea=Macedon Ranges', 'CouncilArea=Manningham', 'CouncilArea=Maribyrnong', 'CouncilArea=Maroondah', 'CouncilArea=Melbourne', 'CouncilArea=Melton', 'CouncilArea=Monash', 'CouncilArea=Moonee Valley', 'CouncilArea=Moorabool', 'CouncilArea=Moreland', 'CouncilArea=Nillumbik', 'CouncilArea=Port Phillip', 'CouncilArea=Stonnington', 'CouncilArea=Unavailable', 'CouncilArea=Whitehorse', 'CouncilArea=Whittlesea', 'CouncilArea=Wyndham', 'CouncilArea=Yarra', 'CouncilArea=Yarra Ranges', 'Date_Month=2016-01-01', 'Date_Month=2016-03-01', 'Date_Month=2016-04-01', 'Date_Month=2016-05-01', 'Date_Month=2016-06-01', 'Date_Month=2016-07-01', 'Date_Month=2016-08-01', 'Date_Month=2016-09-01', 'Date_Month=2016-10-01', 'Date_Month=2016-11-01', 'Date_Month=2016-12-01', 'Date_Month=2017-01-01', 'Date_Month=2017-02-01', 'Date_Month=2017-03-01', 'Date_Month=2017-04-01', 'Date_Month=2017-05-01', 'Date_Month=2017-06-01', 'Date_Month=2017-07-01', 'Date_Month=2017-08-01', 'Date_Month=2017-09-01', 'Date_Month=2017-11-01', 'Date_Month=2017-12-01', 'Bathroom', 'Car', 'Distance', 'Landsize', 'Lattitude', 'Longtitude', 'Postcode', 'Price', 'Propertycount', 'Rooms', 'airbnb_price_mean']\n"
          ],
          "name": "stdout"
        }
      ]
    },
    {
      "cell_type": "markdown",
      "metadata": {
        "id": "2FgtHwiInWYj"
      },
      "source": [
        "Agrego las imputaciones de YearBuilt y BuildingArea (estamos agregandolas con su rango original, se puede modificar para que sea escalado)"
      ]
    },
    {
      "cell_type": "code",
      "metadata": {
        "colab": {
          "base_uri": "https://localhost:8080/"
        },
        "id": "CHFPOCCJnbIF",
        "outputId": "c55ac570-564a-47b7-eee5-4e8491ae668a"
      },
      "source": [
        "X_imputed = np.hstack([X,buildingArea_imp.reshape(X.shape[0],1), yearBuilt_imp.reshape(X.shape[0],1)])\n",
        "new_columns.extend(['buildingArea_imp', 'yearBuilt_imp'])\n",
        "print(\"Matrix has shape {}, with columns: {}\".format(X_imputed.shape, new_columns))"
      ],
      "execution_count": 117,
      "outputs": [
        {
          "output_type": "stream",
          "text": [
            "Matrix has shape (13535, 378), with columns: ['Suburb=Abbotsford', 'Suburb=Aberfeldie', 'Suburb=Airport West', 'Suburb=Albanvale', 'Suburb=Albert Park', 'Suburb=Albion', 'Suburb=Alphington', 'Suburb=Altona', 'Suburb=Altona Meadows', 'Suburb=Altona North', 'Suburb=Ardeer', 'Suburb=Armadale', 'Suburb=Ascot Vale', 'Suburb=Ashburton', 'Suburb=Ashwood', 'Suburb=Aspendale', 'Suburb=Aspendale Gardens', 'Suburb=Avondale Heights', 'Suburb=Bacchus Marsh', 'Suburb=Balaclava', 'Suburb=Balwyn', 'Suburb=Balwyn North', 'Suburb=Bayswater', 'Suburb=Bayswater North', 'Suburb=Beaconsfield', 'Suburb=Beaconsfield Upper', 'Suburb=Beaumaris', 'Suburb=Bellfield', 'Suburb=Bentleigh', 'Suburb=Bentleigh East', 'Suburb=Berwick', 'Suburb=Black Rock', 'Suburb=Blackburn', 'Suburb=Blackburn North', 'Suburb=Blackburn South', 'Suburb=Bonbeach', 'Suburb=Boronia', 'Suburb=Box Hill', 'Suburb=Braybrook', 'Suburb=Briar Hill', 'Suburb=Brighton', 'Suburb=Brighton East', 'Suburb=Broadmeadows', 'Suburb=Brookfield', 'Suburb=Brooklyn', 'Suburb=Brunswick', 'Suburb=Brunswick East', 'Suburb=Brunswick West', 'Suburb=Bulleen', 'Suburb=Bullengarook', 'Suburb=Bundoora', 'Suburb=Burnley', 'Suburb=Burnside Heights', 'Suburb=Burwood', 'Suburb=Burwood East', 'Suburb=Cairnlea', 'Suburb=Camberwell', 'Suburb=Campbellfield', 'Suburb=Canterbury', 'Suburb=Carlton', 'Suburb=Carlton North', 'Suburb=Carnegie', 'Suburb=Caroline Springs', 'Suburb=Carrum', 'Suburb=Carrum Downs', 'Suburb=Caulfield', 'Suburb=Caulfield East', 'Suburb=Caulfield North', 'Suburb=Caulfield South', 'Suburb=Chadstone', 'Suburb=Chelsea', 'Suburb=Chelsea Heights', 'Suburb=Cheltenham', 'Suburb=Chirnside Park', 'Suburb=Clarinda', 'Suburb=Clayton', 'Suburb=Clayton South', 'Suburb=Clifton Hill', 'Suburb=Coburg', 'Suburb=Coburg North', 'Suburb=Collingwood', 'Suburb=Coolaroo', 'Suburb=Craigieburn', 'Suburb=Cranbourne', 'Suburb=Cranbourne North', 'Suburb=Cremorne', 'Suburb=Croydon', 'Suburb=Croydon Hills', 'Suburb=Croydon North', 'Suburb=Croydon South', 'Suburb=Dallas', 'Suburb=Dandenong', 'Suburb=Dandenong North', 'Suburb=Deepdene', 'Suburb=Deer Park', 'Suburb=Delahey', 'Suburb=Derrimut', 'Suburb=Diamond Creek', 'Suburb=Diggers Rest', 'Suburb=Dingley Village', 'Suburb=Docklands', 'Suburb=Doncaster', 'Suburb=Doncaster East', 'Suburb=Donvale', 'Suburb=Doreen', 'Suburb=Doveton', 'Suburb=Eaglemont', 'Suburb=East Melbourne', 'Suburb=Edithvale', 'Suburb=Elsternwick', 'Suburb=Eltham', 'Suburb=Eltham North', 'Suburb=Elwood', 'Suburb=Emerald', 'Suburb=Endeavour Hills', 'Suburb=Epping', 'Suburb=Essendon', 'Suburb=Essendon North', 'Suburb=Essendon West', 'Suburb=Fairfield', 'Suburb=Fawkner', 'Suburb=Ferntree Gully', 'Suburb=Fitzroy', 'Suburb=Fitzroy North', 'Suburb=Flemington', 'Suburb=Footscray', 'Suburb=Forest Hill', 'Suburb=Frankston', 'Suburb=Frankston North', 'Suburb=Frankston South', 'Suburb=Gardenvale', 'Suburb=Gisborne', 'Suburb=Gladstone Park', 'Suburb=Glen Huntly', 'Suburb=Glen Iris', 'Suburb=Glen Waverley', 'Suburb=Glenroy', 'Suburb=Gowanbrae', 'Suburb=Greensborough', 'Suburb=Greenvale', 'Suburb=Hadfield', 'Suburb=Hallam', 'Suburb=Hampton', 'Suburb=Hampton East', 'Suburb=Hampton Park', 'Suburb=Hawthorn', 'Suburb=Hawthorn East', 'Suburb=Healesville', 'Suburb=Heathmont', 'Suburb=Heidelberg', 'Suburb=Heidelberg Heights', 'Suburb=Heidelberg West', 'Suburb=Highett', 'Suburb=Hillside', 'Suburb=Hoppers Crossing', 'Suburb=Hughesdale', 'Suburb=Huntingdale', 'Suburb=Hurstbridge', 'Suburb=Ivanhoe', 'Suburb=Ivanhoe East', 'Suburb=Jacana', 'Suburb=Kealba', 'Suburb=Keilor', 'Suburb=Keilor Downs', 'Suburb=Keilor East', 'Suburb=Keilor Lodge', 'Suburb=Keilor Park', 'Suburb=Kensington', 'Suburb=Kew', 'Suburb=Kew East', 'Suburb=Keysborough', 'Suburb=Kilsyth', 'Suburb=Kings Park', 'Suburb=Kingsbury', 'Suburb=Kingsville', 'Suburb=Knoxfield', 'Suburb=Kooyong', 'Suburb=Kurunjang', 'Suburb=Lalor', 'Suburb=Langwarrin', 'Suburb=Lower Plenty', 'Suburb=Maidstone', 'Suburb=Malvern', 'Suburb=Malvern East', 'Suburb=Maribyrnong', 'Suburb=McKinnon', 'Suburb=Meadow Heights', 'Suburb=Melbourne', 'Suburb=Melton', 'Suburb=Melton South', 'Suburb=Melton West', 'Suburb=Mentone', 'Suburb=Mernda', 'Suburb=Middle Park', 'Suburb=Mill Park', 'Suburb=Mitcham', 'Suburb=Mont Albert', 'Suburb=Montmorency', 'Suburb=Montrose', 'Suburb=Moonee Ponds', 'Suburb=Moorabbin', 'Suburb=Mooroolbark', 'Suburb=Mordialloc', 'Suburb=Mount Evelyn', 'Suburb=Mount Waverley', 'Suburb=Mulgrave', 'Suburb=Murrumbeena', 'Suburb=Narre Warren', 'Suburb=Newport', 'Suburb=Niddrie', 'Suburb=Noble Park', 'Suburb=North Melbourne', 'Suburb=North Warrandyte', 'Suburb=Northcote', 'Suburb=Notting Hill', 'Suburb=Nunawading', 'Suburb=Oak Park', 'Suburb=Oakleigh', 'Suburb=Oakleigh East', 'Suburb=Oakleigh South', 'Suburb=Officer', 'Suburb=Ormond', 'Suburb=Pakenham', 'Suburb=Parkdale', 'Suburb=Parkville', 'Suburb=Pascoe Vale', 'Suburb=Point Cook', 'Suburb=Port Melbourne', 'Suburb=Prahran', 'Suburb=Preston', 'Suburb=Princes Hill', 'Suburb=Reservoir', 'Suburb=Richmond', 'Suburb=Riddells Creek', 'Suburb=Ringwood', 'Suburb=Ringwood East', 'Suburb=Ringwood North', 'Suburb=Ripponlea', 'Suburb=Rockbank', 'Suburb=Rosanna', 'Suburb=Rowville', 'Suburb=Roxburgh Park', 'Suburb=Sandhurst', 'Suburb=Sandringham', 'Suburb=Scoresby', 'Suburb=Seabrook', 'Suburb=Seaford', 'Suburb=Seaholme', 'Suburb=Seddon', 'Suburb=Skye', 'Suburb=South Kingsville', 'Suburb=South Melbourne', 'Suburb=South Morang', 'Suburb=South Yarra', 'Suburb=Southbank', 'Suburb=Spotswood', 'Suburb=Springvale', 'Suburb=Springvale South', 'Suburb=St Albans', 'Suburb=St Helena', 'Suburb=St Kilda', 'Suburb=Strathmore', 'Suburb=Strathmore Heights', 'Suburb=Sunbury', 'Suburb=Sunshine', 'Suburb=Sunshine North', 'Suburb=Sunshine West', 'Suburb=Surrey Hills', 'Suburb=Sydenham', 'Suburb=Tarneit', 'Suburb=Taylors Hill', 'Suburb=Taylors Lakes', 'Suburb=Templestowe', 'Suburb=Templestowe Lower', 'Suburb=The Basin', 'Suburb=Thomastown', 'Suburb=Thornbury', 'Suburb=Toorak', 'Suburb=Travancore', 'Suburb=Truganina', 'Suburb=Tullamarine', 'Suburb=Upwey', 'Suburb=Vermont', 'Suburb=Vermont South', 'Suburb=Viewbank', 'Suburb=Wantirna', 'Suburb=Wantirna South', 'Suburb=Warrandyte', 'Suburb=Waterways', 'Suburb=Watsonia', 'Suburb=Watsonia North', 'Suburb=Werribee', 'Suburb=West Footscray', 'Suburb=West Melbourne', 'Suburb=Westmeadows', 'Suburb=Wheelers Hill', 'Suburb=Whittlesea', 'Suburb=Williams Landing', 'Suburb=Williamstown', 'Suburb=Williamstown North', 'Suburb=Windsor', 'Suburb=Wollert', 'Suburb=Wonga Park', 'Suburb=Wyndham Vale', 'Suburb=Yallambie', 'Suburb=Yarra Glen', 'Suburb=Yarraville', 'Type=h', 'Type=t', 'Type=u', 'CouncilArea=Banyule', 'CouncilArea=Bayside', 'CouncilArea=Boroondara', 'CouncilArea=Brimbank', 'CouncilArea=Cardinia', 'CouncilArea=Casey', 'CouncilArea=Darebin', 'CouncilArea=Frankston', 'CouncilArea=Glen Eira', 'CouncilArea=Greater Dandenong', 'CouncilArea=Hobsons Bay', 'CouncilArea=Hume', 'CouncilArea=Kingston', 'CouncilArea=Knox', 'CouncilArea=Macedon Ranges', 'CouncilArea=Manningham', 'CouncilArea=Maribyrnong', 'CouncilArea=Maroondah', 'CouncilArea=Melbourne', 'CouncilArea=Melton', 'CouncilArea=Monash', 'CouncilArea=Moonee Valley', 'CouncilArea=Moorabool', 'CouncilArea=Moreland', 'CouncilArea=Nillumbik', 'CouncilArea=Port Phillip', 'CouncilArea=Stonnington', 'CouncilArea=Unavailable', 'CouncilArea=Whitehorse', 'CouncilArea=Whittlesea', 'CouncilArea=Wyndham', 'CouncilArea=Yarra', 'CouncilArea=Yarra Ranges', 'Date_Month=2016-01-01', 'Date_Month=2016-03-01', 'Date_Month=2016-04-01', 'Date_Month=2016-05-01', 'Date_Month=2016-06-01', 'Date_Month=2016-07-01', 'Date_Month=2016-08-01', 'Date_Month=2016-09-01', 'Date_Month=2016-10-01', 'Date_Month=2016-11-01', 'Date_Month=2016-12-01', 'Date_Month=2017-01-01', 'Date_Month=2017-02-01', 'Date_Month=2017-03-01', 'Date_Month=2017-04-01', 'Date_Month=2017-05-01', 'Date_Month=2017-06-01', 'Date_Month=2017-07-01', 'Date_Month=2017-08-01', 'Date_Month=2017-09-01', 'Date_Month=2017-11-01', 'Date_Month=2017-12-01', 'Bathroom', 'Car', 'Distance', 'Landsize', 'Lattitude', 'Longtitude', 'Postcode', 'Price', 'Propertycount', 'Rooms', 'airbnb_price_mean', 'buildingArea_imp', 'yearBuilt_imp']\n"
          ],
          "name": "stdout"
        }
      ]
    },
    {
      "cell_type": "markdown",
      "metadata": {
        "id": "iy2k88qofO9q"
      },
      "source": [
        "Agrego las del PCA"
      ]
    },
    {
      "cell_type": "code",
      "metadata": {
        "colab": {
          "base_uri": "https://localhost:8080/"
        },
        "id": "1vk7D6CPeq30",
        "outputId": "449db237-ead1-4b14-e268-7c13a7b72077"
      },
      "source": [
        "X_pca = np.hstack([X_imputed, proyected_features[:,:3]])\n",
        "new_columns.extend(['pca1', 'pca2','pca3'])\n",
        "print(\"Matrix has shape {}, with columns: {}\".format(X_pca.shape, new_columns))"
      ],
      "execution_count": 118,
      "outputs": [
        {
          "output_type": "stream",
          "text": [
            "Matrix has shape (13535, 381), with columns: ['Suburb=Abbotsford', 'Suburb=Aberfeldie', 'Suburb=Airport West', 'Suburb=Albanvale', 'Suburb=Albert Park', 'Suburb=Albion', 'Suburb=Alphington', 'Suburb=Altona', 'Suburb=Altona Meadows', 'Suburb=Altona North', 'Suburb=Ardeer', 'Suburb=Armadale', 'Suburb=Ascot Vale', 'Suburb=Ashburton', 'Suburb=Ashwood', 'Suburb=Aspendale', 'Suburb=Aspendale Gardens', 'Suburb=Avondale Heights', 'Suburb=Bacchus Marsh', 'Suburb=Balaclava', 'Suburb=Balwyn', 'Suburb=Balwyn North', 'Suburb=Bayswater', 'Suburb=Bayswater North', 'Suburb=Beaconsfield', 'Suburb=Beaconsfield Upper', 'Suburb=Beaumaris', 'Suburb=Bellfield', 'Suburb=Bentleigh', 'Suburb=Bentleigh East', 'Suburb=Berwick', 'Suburb=Black Rock', 'Suburb=Blackburn', 'Suburb=Blackburn North', 'Suburb=Blackburn South', 'Suburb=Bonbeach', 'Suburb=Boronia', 'Suburb=Box Hill', 'Suburb=Braybrook', 'Suburb=Briar Hill', 'Suburb=Brighton', 'Suburb=Brighton East', 'Suburb=Broadmeadows', 'Suburb=Brookfield', 'Suburb=Brooklyn', 'Suburb=Brunswick', 'Suburb=Brunswick East', 'Suburb=Brunswick West', 'Suburb=Bulleen', 'Suburb=Bullengarook', 'Suburb=Bundoora', 'Suburb=Burnley', 'Suburb=Burnside Heights', 'Suburb=Burwood', 'Suburb=Burwood East', 'Suburb=Cairnlea', 'Suburb=Camberwell', 'Suburb=Campbellfield', 'Suburb=Canterbury', 'Suburb=Carlton', 'Suburb=Carlton North', 'Suburb=Carnegie', 'Suburb=Caroline Springs', 'Suburb=Carrum', 'Suburb=Carrum Downs', 'Suburb=Caulfield', 'Suburb=Caulfield East', 'Suburb=Caulfield North', 'Suburb=Caulfield South', 'Suburb=Chadstone', 'Suburb=Chelsea', 'Suburb=Chelsea Heights', 'Suburb=Cheltenham', 'Suburb=Chirnside Park', 'Suburb=Clarinda', 'Suburb=Clayton', 'Suburb=Clayton South', 'Suburb=Clifton Hill', 'Suburb=Coburg', 'Suburb=Coburg North', 'Suburb=Collingwood', 'Suburb=Coolaroo', 'Suburb=Craigieburn', 'Suburb=Cranbourne', 'Suburb=Cranbourne North', 'Suburb=Cremorne', 'Suburb=Croydon', 'Suburb=Croydon Hills', 'Suburb=Croydon North', 'Suburb=Croydon South', 'Suburb=Dallas', 'Suburb=Dandenong', 'Suburb=Dandenong North', 'Suburb=Deepdene', 'Suburb=Deer Park', 'Suburb=Delahey', 'Suburb=Derrimut', 'Suburb=Diamond Creek', 'Suburb=Diggers Rest', 'Suburb=Dingley Village', 'Suburb=Docklands', 'Suburb=Doncaster', 'Suburb=Doncaster East', 'Suburb=Donvale', 'Suburb=Doreen', 'Suburb=Doveton', 'Suburb=Eaglemont', 'Suburb=East Melbourne', 'Suburb=Edithvale', 'Suburb=Elsternwick', 'Suburb=Eltham', 'Suburb=Eltham North', 'Suburb=Elwood', 'Suburb=Emerald', 'Suburb=Endeavour Hills', 'Suburb=Epping', 'Suburb=Essendon', 'Suburb=Essendon North', 'Suburb=Essendon West', 'Suburb=Fairfield', 'Suburb=Fawkner', 'Suburb=Ferntree Gully', 'Suburb=Fitzroy', 'Suburb=Fitzroy North', 'Suburb=Flemington', 'Suburb=Footscray', 'Suburb=Forest Hill', 'Suburb=Frankston', 'Suburb=Frankston North', 'Suburb=Frankston South', 'Suburb=Gardenvale', 'Suburb=Gisborne', 'Suburb=Gladstone Park', 'Suburb=Glen Huntly', 'Suburb=Glen Iris', 'Suburb=Glen Waverley', 'Suburb=Glenroy', 'Suburb=Gowanbrae', 'Suburb=Greensborough', 'Suburb=Greenvale', 'Suburb=Hadfield', 'Suburb=Hallam', 'Suburb=Hampton', 'Suburb=Hampton East', 'Suburb=Hampton Park', 'Suburb=Hawthorn', 'Suburb=Hawthorn East', 'Suburb=Healesville', 'Suburb=Heathmont', 'Suburb=Heidelberg', 'Suburb=Heidelberg Heights', 'Suburb=Heidelberg West', 'Suburb=Highett', 'Suburb=Hillside', 'Suburb=Hoppers Crossing', 'Suburb=Hughesdale', 'Suburb=Huntingdale', 'Suburb=Hurstbridge', 'Suburb=Ivanhoe', 'Suburb=Ivanhoe East', 'Suburb=Jacana', 'Suburb=Kealba', 'Suburb=Keilor', 'Suburb=Keilor Downs', 'Suburb=Keilor East', 'Suburb=Keilor Lodge', 'Suburb=Keilor Park', 'Suburb=Kensington', 'Suburb=Kew', 'Suburb=Kew East', 'Suburb=Keysborough', 'Suburb=Kilsyth', 'Suburb=Kings Park', 'Suburb=Kingsbury', 'Suburb=Kingsville', 'Suburb=Knoxfield', 'Suburb=Kooyong', 'Suburb=Kurunjang', 'Suburb=Lalor', 'Suburb=Langwarrin', 'Suburb=Lower Plenty', 'Suburb=Maidstone', 'Suburb=Malvern', 'Suburb=Malvern East', 'Suburb=Maribyrnong', 'Suburb=McKinnon', 'Suburb=Meadow Heights', 'Suburb=Melbourne', 'Suburb=Melton', 'Suburb=Melton South', 'Suburb=Melton West', 'Suburb=Mentone', 'Suburb=Mernda', 'Suburb=Middle Park', 'Suburb=Mill Park', 'Suburb=Mitcham', 'Suburb=Mont Albert', 'Suburb=Montmorency', 'Suburb=Montrose', 'Suburb=Moonee Ponds', 'Suburb=Moorabbin', 'Suburb=Mooroolbark', 'Suburb=Mordialloc', 'Suburb=Mount Evelyn', 'Suburb=Mount Waverley', 'Suburb=Mulgrave', 'Suburb=Murrumbeena', 'Suburb=Narre Warren', 'Suburb=Newport', 'Suburb=Niddrie', 'Suburb=Noble Park', 'Suburb=North Melbourne', 'Suburb=North Warrandyte', 'Suburb=Northcote', 'Suburb=Notting Hill', 'Suburb=Nunawading', 'Suburb=Oak Park', 'Suburb=Oakleigh', 'Suburb=Oakleigh East', 'Suburb=Oakleigh South', 'Suburb=Officer', 'Suburb=Ormond', 'Suburb=Pakenham', 'Suburb=Parkdale', 'Suburb=Parkville', 'Suburb=Pascoe Vale', 'Suburb=Point Cook', 'Suburb=Port Melbourne', 'Suburb=Prahran', 'Suburb=Preston', 'Suburb=Princes Hill', 'Suburb=Reservoir', 'Suburb=Richmond', 'Suburb=Riddells Creek', 'Suburb=Ringwood', 'Suburb=Ringwood East', 'Suburb=Ringwood North', 'Suburb=Ripponlea', 'Suburb=Rockbank', 'Suburb=Rosanna', 'Suburb=Rowville', 'Suburb=Roxburgh Park', 'Suburb=Sandhurst', 'Suburb=Sandringham', 'Suburb=Scoresby', 'Suburb=Seabrook', 'Suburb=Seaford', 'Suburb=Seaholme', 'Suburb=Seddon', 'Suburb=Skye', 'Suburb=South Kingsville', 'Suburb=South Melbourne', 'Suburb=South Morang', 'Suburb=South Yarra', 'Suburb=Southbank', 'Suburb=Spotswood', 'Suburb=Springvale', 'Suburb=Springvale South', 'Suburb=St Albans', 'Suburb=St Helena', 'Suburb=St Kilda', 'Suburb=Strathmore', 'Suburb=Strathmore Heights', 'Suburb=Sunbury', 'Suburb=Sunshine', 'Suburb=Sunshine North', 'Suburb=Sunshine West', 'Suburb=Surrey Hills', 'Suburb=Sydenham', 'Suburb=Tarneit', 'Suburb=Taylors Hill', 'Suburb=Taylors Lakes', 'Suburb=Templestowe', 'Suburb=Templestowe Lower', 'Suburb=The Basin', 'Suburb=Thomastown', 'Suburb=Thornbury', 'Suburb=Toorak', 'Suburb=Travancore', 'Suburb=Truganina', 'Suburb=Tullamarine', 'Suburb=Upwey', 'Suburb=Vermont', 'Suburb=Vermont South', 'Suburb=Viewbank', 'Suburb=Wantirna', 'Suburb=Wantirna South', 'Suburb=Warrandyte', 'Suburb=Waterways', 'Suburb=Watsonia', 'Suburb=Watsonia North', 'Suburb=Werribee', 'Suburb=West Footscray', 'Suburb=West Melbourne', 'Suburb=Westmeadows', 'Suburb=Wheelers Hill', 'Suburb=Whittlesea', 'Suburb=Williams Landing', 'Suburb=Williamstown', 'Suburb=Williamstown North', 'Suburb=Windsor', 'Suburb=Wollert', 'Suburb=Wonga Park', 'Suburb=Wyndham Vale', 'Suburb=Yallambie', 'Suburb=Yarra Glen', 'Suburb=Yarraville', 'Type=h', 'Type=t', 'Type=u', 'CouncilArea=Banyule', 'CouncilArea=Bayside', 'CouncilArea=Boroondara', 'CouncilArea=Brimbank', 'CouncilArea=Cardinia', 'CouncilArea=Casey', 'CouncilArea=Darebin', 'CouncilArea=Frankston', 'CouncilArea=Glen Eira', 'CouncilArea=Greater Dandenong', 'CouncilArea=Hobsons Bay', 'CouncilArea=Hume', 'CouncilArea=Kingston', 'CouncilArea=Knox', 'CouncilArea=Macedon Ranges', 'CouncilArea=Manningham', 'CouncilArea=Maribyrnong', 'CouncilArea=Maroondah', 'CouncilArea=Melbourne', 'CouncilArea=Melton', 'CouncilArea=Monash', 'CouncilArea=Moonee Valley', 'CouncilArea=Moorabool', 'CouncilArea=Moreland', 'CouncilArea=Nillumbik', 'CouncilArea=Port Phillip', 'CouncilArea=Stonnington', 'CouncilArea=Unavailable', 'CouncilArea=Whitehorse', 'CouncilArea=Whittlesea', 'CouncilArea=Wyndham', 'CouncilArea=Yarra', 'CouncilArea=Yarra Ranges', 'Date_Month=2016-01-01', 'Date_Month=2016-03-01', 'Date_Month=2016-04-01', 'Date_Month=2016-05-01', 'Date_Month=2016-06-01', 'Date_Month=2016-07-01', 'Date_Month=2016-08-01', 'Date_Month=2016-09-01', 'Date_Month=2016-10-01', 'Date_Month=2016-11-01', 'Date_Month=2016-12-01', 'Date_Month=2017-01-01', 'Date_Month=2017-02-01', 'Date_Month=2017-03-01', 'Date_Month=2017-04-01', 'Date_Month=2017-05-01', 'Date_Month=2017-06-01', 'Date_Month=2017-07-01', 'Date_Month=2017-08-01', 'Date_Month=2017-09-01', 'Date_Month=2017-11-01', 'Date_Month=2017-12-01', 'Bathroom', 'Car', 'Distance', 'Landsize', 'Lattitude', 'Longtitude', 'Postcode', 'Price', 'Propertycount', 'Rooms', 'airbnb_price_mean', 'buildingArea_imp', 'yearBuilt_imp', 'pca1', 'pca2', 'pca3']\n"
          ],
          "name": "stdout"
        }
      ]
    },
    {
      "cell_type": "code",
      "metadata": {
        "colab": {
          "base_uri": "https://localhost:8080/"
        },
        "id": "I2cOsl2hkXeM",
        "outputId": "ba243416-fa08-4b59-ec3b-88224cf67a3f"
      },
      "source": [
        "X_pca.shape"
      ],
      "execution_count": 119,
      "outputs": [
        {
          "output_type": "execute_result",
          "data": {
            "text/plain": [
              "(13535, 381)"
            ]
          },
          "metadata": {
            "tags": []
          },
          "execution_count": 119
        }
      ]
    },
    {
      "cell_type": "code",
      "metadata": {
        "colab": {
          "base_uri": "https://localhost:8080/"
        },
        "id": "hlmT2k_dkcdb",
        "outputId": "f11d9dcd-3afc-402f-c6ef-fd0530c05d2d"
      },
      "source": [
        "len(new_columns)"
      ],
      "execution_count": 120,
      "outputs": [
        {
          "output_type": "execute_result",
          "data": {
            "text/plain": [
              "381"
            ]
          },
          "metadata": {
            "tags": []
          },
          "execution_count": 120
        }
      ]
    },
    {
      "cell_type": "code",
      "metadata": {
        "colab": {
          "base_uri": "https://localhost:8080/",
          "height": 255
        },
        "id": "QLoPHw-2fvB6",
        "outputId": "151152bf-d93c-46f3-fa89-79f5bf8bcfb3"
      },
      "source": [
        "## Re-build dataframe\n",
        "processed_melb_df = pd.DataFrame(data=X_pca, columns=new_columns)\n",
        "processed_melb_df.head()"
      ],
      "execution_count": 121,
      "outputs": [
        {
          "output_type": "execute_result",
          "data": {
            "text/html": [
              "<div>\n",
              "<style scoped>\n",
              "    .dataframe tbody tr th:only-of-type {\n",
              "        vertical-align: middle;\n",
              "    }\n",
              "\n",
              "    .dataframe tbody tr th {\n",
              "        vertical-align: top;\n",
              "    }\n",
              "\n",
              "    .dataframe thead th {\n",
              "        text-align: right;\n",
              "    }\n",
              "</style>\n",
              "<table border=\"1\" class=\"dataframe\">\n",
              "  <thead>\n",
              "    <tr style=\"text-align: right;\">\n",
              "      <th></th>\n",
              "      <th>Suburb=Abbotsford</th>\n",
              "      <th>Suburb=Aberfeldie</th>\n",
              "      <th>Suburb=Airport West</th>\n",
              "      <th>Suburb=Albanvale</th>\n",
              "      <th>Suburb=Albert Park</th>\n",
              "      <th>Suburb=Albion</th>\n",
              "      <th>Suburb=Alphington</th>\n",
              "      <th>Suburb=Altona</th>\n",
              "      <th>Suburb=Altona Meadows</th>\n",
              "      <th>Suburb=Altona North</th>\n",
              "      <th>Suburb=Ardeer</th>\n",
              "      <th>Suburb=Armadale</th>\n",
              "      <th>Suburb=Ascot Vale</th>\n",
              "      <th>Suburb=Ashburton</th>\n",
              "      <th>Suburb=Ashwood</th>\n",
              "      <th>Suburb=Aspendale</th>\n",
              "      <th>Suburb=Aspendale Gardens</th>\n",
              "      <th>Suburb=Avondale Heights</th>\n",
              "      <th>Suburb=Bacchus Marsh</th>\n",
              "      <th>Suburb=Balaclava</th>\n",
              "      <th>Suburb=Balwyn</th>\n",
              "      <th>Suburb=Balwyn North</th>\n",
              "      <th>Suburb=Bayswater</th>\n",
              "      <th>Suburb=Bayswater North</th>\n",
              "      <th>Suburb=Beaconsfield</th>\n",
              "      <th>Suburb=Beaconsfield Upper</th>\n",
              "      <th>Suburb=Beaumaris</th>\n",
              "      <th>Suburb=Bellfield</th>\n",
              "      <th>Suburb=Bentleigh</th>\n",
              "      <th>Suburb=Bentleigh East</th>\n",
              "      <th>Suburb=Berwick</th>\n",
              "      <th>Suburb=Black Rock</th>\n",
              "      <th>Suburb=Blackburn</th>\n",
              "      <th>Suburb=Blackburn North</th>\n",
              "      <th>Suburb=Blackburn South</th>\n",
              "      <th>Suburb=Bonbeach</th>\n",
              "      <th>Suburb=Boronia</th>\n",
              "      <th>Suburb=Box Hill</th>\n",
              "      <th>Suburb=Braybrook</th>\n",
              "      <th>Suburb=Briar Hill</th>\n",
              "      <th>...</th>\n",
              "      <th>CouncilArea=Yarra</th>\n",
              "      <th>CouncilArea=Yarra Ranges</th>\n",
              "      <th>Date_Month=2016-01-01</th>\n",
              "      <th>Date_Month=2016-03-01</th>\n",
              "      <th>Date_Month=2016-04-01</th>\n",
              "      <th>Date_Month=2016-05-01</th>\n",
              "      <th>Date_Month=2016-06-01</th>\n",
              "      <th>Date_Month=2016-07-01</th>\n",
              "      <th>Date_Month=2016-08-01</th>\n",
              "      <th>Date_Month=2016-09-01</th>\n",
              "      <th>Date_Month=2016-10-01</th>\n",
              "      <th>Date_Month=2016-11-01</th>\n",
              "      <th>Date_Month=2016-12-01</th>\n",
              "      <th>Date_Month=2017-01-01</th>\n",
              "      <th>Date_Month=2017-02-01</th>\n",
              "      <th>Date_Month=2017-03-01</th>\n",
              "      <th>Date_Month=2017-04-01</th>\n",
              "      <th>Date_Month=2017-05-01</th>\n",
              "      <th>Date_Month=2017-06-01</th>\n",
              "      <th>Date_Month=2017-07-01</th>\n",
              "      <th>Date_Month=2017-08-01</th>\n",
              "      <th>Date_Month=2017-09-01</th>\n",
              "      <th>Date_Month=2017-11-01</th>\n",
              "      <th>Date_Month=2017-12-01</th>\n",
              "      <th>Bathroom</th>\n",
              "      <th>Car</th>\n",
              "      <th>Distance</th>\n",
              "      <th>Landsize</th>\n",
              "      <th>Lattitude</th>\n",
              "      <th>Longtitude</th>\n",
              "      <th>Postcode</th>\n",
              "      <th>Price</th>\n",
              "      <th>Propertycount</th>\n",
              "      <th>Rooms</th>\n",
              "      <th>airbnb_price_mean</th>\n",
              "      <th>buildingArea_imp</th>\n",
              "      <th>yearBuilt_imp</th>\n",
              "      <th>pca1</th>\n",
              "      <th>pca2</th>\n",
              "      <th>pca3</th>\n",
              "    </tr>\n",
              "  </thead>\n",
              "  <tbody>\n",
              "    <tr>\n",
              "      <th>0</th>\n",
              "      <td>1.0</td>\n",
              "      <td>0.0</td>\n",
              "      <td>0.0</td>\n",
              "      <td>0.0</td>\n",
              "      <td>0.0</td>\n",
              "      <td>0.0</td>\n",
              "      <td>0.0</td>\n",
              "      <td>0.0</td>\n",
              "      <td>0.0</td>\n",
              "      <td>0.0</td>\n",
              "      <td>0.0</td>\n",
              "      <td>0.0</td>\n",
              "      <td>0.0</td>\n",
              "      <td>0.0</td>\n",
              "      <td>0.0</td>\n",
              "      <td>0.0</td>\n",
              "      <td>0.0</td>\n",
              "      <td>0.0</td>\n",
              "      <td>0.0</td>\n",
              "      <td>0.0</td>\n",
              "      <td>0.0</td>\n",
              "      <td>0.0</td>\n",
              "      <td>0.0</td>\n",
              "      <td>0.0</td>\n",
              "      <td>0.0</td>\n",
              "      <td>0.0</td>\n",
              "      <td>0.0</td>\n",
              "      <td>0.0</td>\n",
              "      <td>0.0</td>\n",
              "      <td>0.0</td>\n",
              "      <td>0.0</td>\n",
              "      <td>0.0</td>\n",
              "      <td>0.0</td>\n",
              "      <td>0.0</td>\n",
              "      <td>0.0</td>\n",
              "      <td>0.0</td>\n",
              "      <td>0.0</td>\n",
              "      <td>0.0</td>\n",
              "      <td>0.0</td>\n",
              "      <td>0.0</td>\n",
              "      <td>...</td>\n",
              "      <td>1.0</td>\n",
              "      <td>0.0</td>\n",
              "      <td>0.0</td>\n",
              "      <td>1.0</td>\n",
              "      <td>0.0</td>\n",
              "      <td>0.0</td>\n",
              "      <td>0.0</td>\n",
              "      <td>0.0</td>\n",
              "      <td>0.0</td>\n",
              "      <td>0.0</td>\n",
              "      <td>0.0</td>\n",
              "      <td>0.0</td>\n",
              "      <td>0.0</td>\n",
              "      <td>0.0</td>\n",
              "      <td>0.0</td>\n",
              "      <td>0.0</td>\n",
              "      <td>0.0</td>\n",
              "      <td>0.0</td>\n",
              "      <td>0.0</td>\n",
              "      <td>0.0</td>\n",
              "      <td>0.0</td>\n",
              "      <td>0.0</td>\n",
              "      <td>0.0</td>\n",
              "      <td>0.0</td>\n",
              "      <td>0.000000</td>\n",
              "      <td>0.1</td>\n",
              "      <td>0.038544</td>\n",
              "      <td>0.020533</td>\n",
              "      <td>0.527872</td>\n",
              "      <td>0.517651</td>\n",
              "      <td>0.068577</td>\n",
              "      <td>0.156478</td>\n",
              "      <td>0.17616</td>\n",
              "      <td>0.111111</td>\n",
              "      <td>0.126027</td>\n",
              "      <td>128.4</td>\n",
              "      <td>1937.8</td>\n",
              "      <td>-0.126715</td>\n",
              "      <td>-0.201159</td>\n",
              "      <td>-0.050432</td>\n",
              "    </tr>\n",
              "    <tr>\n",
              "      <th>1</th>\n",
              "      <td>1.0</td>\n",
              "      <td>0.0</td>\n",
              "      <td>0.0</td>\n",
              "      <td>0.0</td>\n",
              "      <td>0.0</td>\n",
              "      <td>0.0</td>\n",
              "      <td>0.0</td>\n",
              "      <td>0.0</td>\n",
              "      <td>0.0</td>\n",
              "      <td>0.0</td>\n",
              "      <td>0.0</td>\n",
              "      <td>0.0</td>\n",
              "      <td>0.0</td>\n",
              "      <td>0.0</td>\n",
              "      <td>0.0</td>\n",
              "      <td>0.0</td>\n",
              "      <td>0.0</td>\n",
              "      <td>0.0</td>\n",
              "      <td>0.0</td>\n",
              "      <td>0.0</td>\n",
              "      <td>0.0</td>\n",
              "      <td>0.0</td>\n",
              "      <td>0.0</td>\n",
              "      <td>0.0</td>\n",
              "      <td>0.0</td>\n",
              "      <td>0.0</td>\n",
              "      <td>0.0</td>\n",
              "      <td>0.0</td>\n",
              "      <td>0.0</td>\n",
              "      <td>0.0</td>\n",
              "      <td>0.0</td>\n",
              "      <td>0.0</td>\n",
              "      <td>0.0</td>\n",
              "      <td>0.0</td>\n",
              "      <td>0.0</td>\n",
              "      <td>0.0</td>\n",
              "      <td>0.0</td>\n",
              "      <td>0.0</td>\n",
              "      <td>0.0</td>\n",
              "      <td>0.0</td>\n",
              "      <td>...</td>\n",
              "      <td>1.0</td>\n",
              "      <td>0.0</td>\n",
              "      <td>0.0</td>\n",
              "      <td>0.0</td>\n",
              "      <td>1.0</td>\n",
              "      <td>0.0</td>\n",
              "      <td>0.0</td>\n",
              "      <td>0.0</td>\n",
              "      <td>0.0</td>\n",
              "      <td>0.0</td>\n",
              "      <td>0.0</td>\n",
              "      <td>0.0</td>\n",
              "      <td>0.0</td>\n",
              "      <td>0.0</td>\n",
              "      <td>0.0</td>\n",
              "      <td>0.0</td>\n",
              "      <td>0.0</td>\n",
              "      <td>0.0</td>\n",
              "      <td>0.0</td>\n",
              "      <td>0.0</td>\n",
              "      <td>0.0</td>\n",
              "      <td>0.0</td>\n",
              "      <td>0.0</td>\n",
              "      <td>0.0</td>\n",
              "      <td>0.000000</td>\n",
              "      <td>0.0</td>\n",
              "      <td>0.038544</td>\n",
              "      <td>0.015857</td>\n",
              "      <td>0.516431</td>\n",
              "      <td>0.513083</td>\n",
              "      <td>0.068577</td>\n",
              "      <td>0.106562</td>\n",
              "      <td>0.17616</td>\n",
              "      <td>0.111111</td>\n",
              "      <td>0.126027</td>\n",
              "      <td>79.0</td>\n",
              "      <td>1900.0</td>\n",
              "      <td>-0.118545</td>\n",
              "      <td>-0.263689</td>\n",
              "      <td>-0.016759</td>\n",
              "    </tr>\n",
              "    <tr>\n",
              "      <th>2</th>\n",
              "      <td>1.0</td>\n",
              "      <td>0.0</td>\n",
              "      <td>0.0</td>\n",
              "      <td>0.0</td>\n",
              "      <td>0.0</td>\n",
              "      <td>0.0</td>\n",
              "      <td>0.0</td>\n",
              "      <td>0.0</td>\n",
              "      <td>0.0</td>\n",
              "      <td>0.0</td>\n",
              "      <td>0.0</td>\n",
              "      <td>0.0</td>\n",
              "      <td>0.0</td>\n",
              "      <td>0.0</td>\n",
              "      <td>0.0</td>\n",
              "      <td>0.0</td>\n",
              "      <td>0.0</td>\n",
              "      <td>0.0</td>\n",
              "      <td>0.0</td>\n",
              "      <td>0.0</td>\n",
              "      <td>0.0</td>\n",
              "      <td>0.0</td>\n",
              "      <td>0.0</td>\n",
              "      <td>0.0</td>\n",
              "      <td>0.0</td>\n",
              "      <td>0.0</td>\n",
              "      <td>0.0</td>\n",
              "      <td>0.0</td>\n",
              "      <td>0.0</td>\n",
              "      <td>0.0</td>\n",
              "      <td>0.0</td>\n",
              "      <td>0.0</td>\n",
              "      <td>0.0</td>\n",
              "      <td>0.0</td>\n",
              "      <td>0.0</td>\n",
              "      <td>0.0</td>\n",
              "      <td>0.0</td>\n",
              "      <td>0.0</td>\n",
              "      <td>0.0</td>\n",
              "      <td>0.0</td>\n",
              "      <td>...</td>\n",
              "      <td>1.0</td>\n",
              "      <td>0.0</td>\n",
              "      <td>0.0</td>\n",
              "      <td>0.0</td>\n",
              "      <td>0.0</td>\n",
              "      <td>0.0</td>\n",
              "      <td>0.0</td>\n",
              "      <td>0.0</td>\n",
              "      <td>0.0</td>\n",
              "      <td>0.0</td>\n",
              "      <td>0.0</td>\n",
              "      <td>0.0</td>\n",
              "      <td>0.0</td>\n",
              "      <td>0.0</td>\n",
              "      <td>0.0</td>\n",
              "      <td>0.0</td>\n",
              "      <td>1.0</td>\n",
              "      <td>0.0</td>\n",
              "      <td>0.0</td>\n",
              "      <td>0.0</td>\n",
              "      <td>0.0</td>\n",
              "      <td>0.0</td>\n",
              "      <td>0.0</td>\n",
              "      <td>0.0</td>\n",
              "      <td>0.142857</td>\n",
              "      <td>0.0</td>\n",
              "      <td>0.038544</td>\n",
              "      <td>0.013621</td>\n",
              "      <td>0.514501</td>\n",
              "      <td>0.513997</td>\n",
              "      <td>0.068577</td>\n",
              "      <td>0.154795</td>\n",
              "      <td>0.17616</td>\n",
              "      <td>0.222222</td>\n",
              "      <td>0.126027</td>\n",
              "      <td>150.0</td>\n",
              "      <td>1900.0</td>\n",
              "      <td>-0.143449</td>\n",
              "      <td>-0.112099</td>\n",
              "      <td>-0.111815</td>\n",
              "    </tr>\n",
              "    <tr>\n",
              "      <th>3</th>\n",
              "      <td>1.0</td>\n",
              "      <td>0.0</td>\n",
              "      <td>0.0</td>\n",
              "      <td>0.0</td>\n",
              "      <td>0.0</td>\n",
              "      <td>0.0</td>\n",
              "      <td>0.0</td>\n",
              "      <td>0.0</td>\n",
              "      <td>0.0</td>\n",
              "      <td>0.0</td>\n",
              "      <td>0.0</td>\n",
              "      <td>0.0</td>\n",
              "      <td>0.0</td>\n",
              "      <td>0.0</td>\n",
              "      <td>0.0</td>\n",
              "      <td>0.0</td>\n",
              "      <td>0.0</td>\n",
              "      <td>0.0</td>\n",
              "      <td>0.0</td>\n",
              "      <td>0.0</td>\n",
              "      <td>0.0</td>\n",
              "      <td>0.0</td>\n",
              "      <td>0.0</td>\n",
              "      <td>0.0</td>\n",
              "      <td>0.0</td>\n",
              "      <td>0.0</td>\n",
              "      <td>0.0</td>\n",
              "      <td>0.0</td>\n",
              "      <td>0.0</td>\n",
              "      <td>0.0</td>\n",
              "      <td>0.0</td>\n",
              "      <td>0.0</td>\n",
              "      <td>0.0</td>\n",
              "      <td>0.0</td>\n",
              "      <td>0.0</td>\n",
              "      <td>0.0</td>\n",
              "      <td>0.0</td>\n",
              "      <td>0.0</td>\n",
              "      <td>0.0</td>\n",
              "      <td>0.0</td>\n",
              "      <td>...</td>\n",
              "      <td>1.0</td>\n",
              "      <td>0.0</td>\n",
              "      <td>0.0</td>\n",
              "      <td>0.0</td>\n",
              "      <td>0.0</td>\n",
              "      <td>0.0</td>\n",
              "      <td>0.0</td>\n",
              "      <td>0.0</td>\n",
              "      <td>0.0</td>\n",
              "      <td>0.0</td>\n",
              "      <td>0.0</td>\n",
              "      <td>0.0</td>\n",
              "      <td>0.0</td>\n",
              "      <td>0.0</td>\n",
              "      <td>0.0</td>\n",
              "      <td>0.0</td>\n",
              "      <td>1.0</td>\n",
              "      <td>0.0</td>\n",
              "      <td>0.0</td>\n",
              "      <td>0.0</td>\n",
              "      <td>0.0</td>\n",
              "      <td>0.0</td>\n",
              "      <td>0.0</td>\n",
              "      <td>0.0</td>\n",
              "      <td>0.142857</td>\n",
              "      <td>0.1</td>\n",
              "      <td>0.038544</td>\n",
              "      <td>0.009555</td>\n",
              "      <td>0.531594</td>\n",
              "      <td>0.516281</td>\n",
              "      <td>0.068577</td>\n",
              "      <td>0.085810</td>\n",
              "      <td>0.17616</td>\n",
              "      <td>0.222222</td>\n",
              "      <td>0.126027</td>\n",
              "      <td>110.4</td>\n",
              "      <td>1935.4</td>\n",
              "      <td>-0.142806</td>\n",
              "      <td>-0.107770</td>\n",
              "      <td>-0.107961</td>\n",
              "    </tr>\n",
              "    <tr>\n",
              "      <th>4</th>\n",
              "      <td>1.0</td>\n",
              "      <td>0.0</td>\n",
              "      <td>0.0</td>\n",
              "      <td>0.0</td>\n",
              "      <td>0.0</td>\n",
              "      <td>0.0</td>\n",
              "      <td>0.0</td>\n",
              "      <td>0.0</td>\n",
              "      <td>0.0</td>\n",
              "      <td>0.0</td>\n",
              "      <td>0.0</td>\n",
              "      <td>0.0</td>\n",
              "      <td>0.0</td>\n",
              "      <td>0.0</td>\n",
              "      <td>0.0</td>\n",
              "      <td>0.0</td>\n",
              "      <td>0.0</td>\n",
              "      <td>0.0</td>\n",
              "      <td>0.0</td>\n",
              "      <td>0.0</td>\n",
              "      <td>0.0</td>\n",
              "      <td>0.0</td>\n",
              "      <td>0.0</td>\n",
              "      <td>0.0</td>\n",
              "      <td>0.0</td>\n",
              "      <td>0.0</td>\n",
              "      <td>0.0</td>\n",
              "      <td>0.0</td>\n",
              "      <td>0.0</td>\n",
              "      <td>0.0</td>\n",
              "      <td>0.0</td>\n",
              "      <td>0.0</td>\n",
              "      <td>0.0</td>\n",
              "      <td>0.0</td>\n",
              "      <td>0.0</td>\n",
              "      <td>0.0</td>\n",
              "      <td>0.0</td>\n",
              "      <td>0.0</td>\n",
              "      <td>0.0</td>\n",
              "      <td>0.0</td>\n",
              "      <td>...</td>\n",
              "      <td>1.0</td>\n",
              "      <td>0.0</td>\n",
              "      <td>0.0</td>\n",
              "      <td>0.0</td>\n",
              "      <td>1.0</td>\n",
              "      <td>0.0</td>\n",
              "      <td>0.0</td>\n",
              "      <td>0.0</td>\n",
              "      <td>0.0</td>\n",
              "      <td>0.0</td>\n",
              "      <td>0.0</td>\n",
              "      <td>0.0</td>\n",
              "      <td>0.0</td>\n",
              "      <td>0.0</td>\n",
              "      <td>0.0</td>\n",
              "      <td>0.0</td>\n",
              "      <td>0.0</td>\n",
              "      <td>0.0</td>\n",
              "      <td>0.0</td>\n",
              "      <td>0.0</td>\n",
              "      <td>0.0</td>\n",
              "      <td>0.0</td>\n",
              "      <td>0.0</td>\n",
              "      <td>0.0</td>\n",
              "      <td>0.000000</td>\n",
              "      <td>0.2</td>\n",
              "      <td>0.038544</td>\n",
              "      <td>0.012198</td>\n",
              "      <td>0.517396</td>\n",
              "      <td>0.513723</td>\n",
              "      <td>0.068577</td>\n",
              "      <td>0.169938</td>\n",
              "      <td>0.17616</td>\n",
              "      <td>0.333333</td>\n",
              "      <td>0.126027</td>\n",
              "      <td>142.0</td>\n",
              "      <td>2014.0</td>\n",
              "      <td>-0.153355</td>\n",
              "      <td>-0.043130</td>\n",
              "      <td>-0.124529</td>\n",
              "    </tr>\n",
              "  </tbody>\n",
              "</table>\n",
              "<p>5 rows × 381 columns</p>\n",
              "</div>"
            ],
            "text/plain": [
              "   Suburb=Abbotsford  Suburb=Aberfeldie  ...      pca2      pca3\n",
              "0                1.0                0.0  ... -0.201159 -0.050432\n",
              "1                1.0                0.0  ... -0.263689 -0.016759\n",
              "2                1.0                0.0  ... -0.112099 -0.111815\n",
              "3                1.0                0.0  ... -0.107770 -0.107961\n",
              "4                1.0                0.0  ... -0.043130 -0.124529\n",
              "\n",
              "[5 rows x 381 columns]"
            ]
          },
          "metadata": {
            "tags": []
          },
          "execution_count": 121
        }
      ]
    },
    {
      "cell_type": "markdown",
      "metadata": {
        "id": "mVBLFc8PhRtW"
      },
      "source": [
        "## Ejercicio 5: Documentación\n",
        "\n",
        "En un documento `.pdf` o `.md` realizar un reporte de las operaciones que realizaron para obtener el conjunto de datos final. Se debe incluir:\n",
        "  1. Criterios de exclusión (o inclusión) de filas\n",
        "  2. Interpretación de las columnas presentes\n",
        "  2. Todas las transofrmaciones realizadas\n",
        "\n",
        "Este documento es de uso técnico exclusivamente, y su objetivo es permitir que otres desarrolladores puedan reproducir los mismos pasos y obtener el mismo resultado. Debe ser detallado pero consiso. Por ejemplo:\n",
        "\n",
        "```\n",
        "  ## Criterios de exclusión de ejemplos\n",
        "  1. Se eliminan ejemplos donde el año de construcción es previo a 1900\n",
        "\n",
        "  ## Características seleccionadas\n",
        "  ### Características categóricas\n",
        "  1. Type: tipo de propiedad. 3 valores posibles\n",
        "  2. ...\n",
        "  Todas las características categóricas fueron codificadas con un\n",
        "  método OneHotEncoding utilizando como máximo sus 30 valores más \n",
        "  frecuentes.\n",
        "  \n",
        "  ### Características numéricas\n",
        "  1. Rooms: Cantidad de habitaciones\n",
        "  2. Distance: Distancia al centro de la ciudad.\n",
        "  3. airbnb_mean_price: Se agrega el precio promedio diario de \n",
        "     publicaciones de la plataforma AirBnB en el mismo código \n",
        "     postal. [Link al repositorio con datos externos].\n",
        "\n",
        "  ### Transformaciones:\n",
        "  1. Todas las características numéricas fueron estandarizadas.\n",
        "  2. La columna `Suburb` fue imputada utilizando el método ...\n",
        "  3. Las columnas `YearBuilt` y ... fueron imputadas utilizando el \n",
        "     algoritmo ...\n",
        "  4. ...\n",
        "\n",
        "  ### Datos aumentados\n",
        "  1. Se agregan las 5 primeras columnas obtenidas a través del\n",
        "     método de PCA, aplicado sobre el conjunto de datos\n",
        "     totalmente procesado.\n",
        "```\n"
      ]
    },
    {
      "cell_type": "markdown",
      "metadata": {
        "id": "Bq7nuPg2HIYx"
      },
      "source": [
        ""
      ]
    }
  ]
}